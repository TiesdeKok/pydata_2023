{
 "cells": [
  {
   "cell_type": "markdown",
   "metadata": {},
   "source": [
    "# PyData 2023\n",
    "\n",
    "### *Going beyond ChatGPT: an introduction to prompt engineering and LLMs*\n",
    "\n",
    "**Author:** Ties de Kok ([website](https://www.tiesdekok.com), [github](https://github.com/tiesdekok))    \n",
    "**Last updated:** April 2023"
   ]
  },
  {
   "cell_type": "markdown",
   "metadata": {},
   "source": [
    "----\n",
    "# Setup \n",
    "---"
   ]
  },
  {
   "cell_type": "markdown",
   "metadata": {},
   "source": [
    "## Imports   \n",
    "\n",
    "All the dependencies required for this notebook are provided in the `environment.yml` file.\n",
    "\n",
    "To install: `conda env create -f environment.yml` --> this creates the `pydata` environment.\n",
    "\n",
    "I recommend using Python 3.9 or higher to avoid dependency conflicts."
   ]
  },
  {
   "cell_type": "code",
   "execution_count": 1,
   "metadata": {},
   "outputs": [],
   "source": [
    "import os, sys, time, math, re, copy, random, json\n",
    "import getpass\n",
    "from pathlib import Path\n",
    "from tqdm.notebook import tqdm\n",
    "\n",
    "import pandas as pd\n",
    "import numpy as np\n",
    "\n",
    "import openai\n",
    "import tiktoken\n",
    "import langchain as lc"
   ]
  },
  {
   "cell_type": "code",
   "execution_count": 2,
   "metadata": {},
   "outputs": [],
   "source": [
    "from sklearn.metrics import classification_report"
   ]
  },
  {
   "cell_type": "markdown",
   "metadata": {
    "tags": []
   },
   "source": [
    "## Settings"
   ]
  },
  {
   "cell_type": "code",
   "execution_count": 3,
   "metadata": {},
   "outputs": [],
   "source": [
    "pd.options.mode.chained_assignment = None  # default='warn'\n",
    "pd.set_option('display.max_columns', 150)\n",
    "pd.set_option('display.max_rows', 150)"
   ]
  },
  {
   "cell_type": "markdown",
   "metadata": {},
   "source": [
    "## Utility functions"
   ]
  },
  {
   "cell_type": "code",
   "execution_count": 4,
   "metadata": {},
   "outputs": [],
   "source": [
    "## This function makes it easier to print rendered markdown through a code cell.\n",
    "\n",
    "from IPython.display import Markdown\n",
    "\n",
    "def mprint(text, *args, **kwargs):\n",
    "    if 'end' in kwargs.keys():\n",
    "        text += kwargs['end']\n",
    "        \n",
    "    display(Markdown(text))"
   ]
  },
  {
   "cell_type": "markdown",
   "metadata": {},
   "source": [
    "### Logic functionality\n",
    "\n",
    "Running the cell below will log all requests made to the OpenAI API into a log file. \n",
    "\n",
    "It also provides two helper functions:\n",
    "\n",
    "- `print_recent_requests(n = 3)`\n",
    "- `clear_log_file()`\n",
    "\n",
    "This might not work on your end, so I've commented them out by default."
   ]
  },
  {
   "cell_type": "code",
   "execution_count": 5,
   "metadata": {},
   "outputs": [],
   "source": [
    "#%run -i log_requests.py\n",
    "\n",
    "#clear_log_file()"
   ]
  },
  {
   "cell_type": "markdown",
   "metadata": {
    "tags": []
   },
   "source": [
    "## OpenAI key\n",
    "\n",
    "The GLLMs we will be interacting with are available through the OpenAI API.  \n",
    "\n",
    "To use the OpenAI API you will need an API key. If you don't have one, follow these steps:   \n",
    "\n",
    "1. Create an OpenAI account --> https://platform.openai.com   \n",
    "2. Create an OpenAI API key --> https://platform.openai.com/account/api-keys   \n",
    "3. You will get \\\\$5 in free credits if you create a new account. If you've used that up, you will need to add a payment method. The code in this notebook will cost less than a dollar to run.\n",
    "\n",
    "Once you have your OpenAI Key, you can set it as the `OPENAI_API_KEY` environment variable (recommended) or enter it directly below."
   ]
  },
  {
   "cell_type": "code",
   "execution_count": 85,
   "metadata": {},
   "outputs": [],
   "source": [
    "if 'OPENAI_API_KEY' not in os.environ:\n",
    "    os.environ['OPENAI_API_KEY'] = getpass.getpass(prompt='Enter your API key: ')\n",
    "openai.api_key = os.environ['OPENAI_API_KEY']\n",
    "    \n",
    "## KEEP YOUR KEY SECURE, ANYONE WITH ACCESS TO IT CAN GENERATE COSTS ON YOUR ACCOUNT!"
   ]
  },
  {
   "cell_type": "markdown",
   "metadata": {},
   "source": [
    "## Load datasets"
   ]
  },
  {
   "cell_type": "markdown",
   "metadata": {},
   "source": [
    "#### Json "
   ]
  },
  {
   "cell_type": "code",
   "execution_count": 7,
   "metadata": {},
   "outputs": [
    {
     "data": {
      "text/markdown": [
       "We have **20** rows of data in `app_feedback`."
      ],
      "text/plain": [
       "<IPython.core.display.Markdown object>"
      ]
     },
     "metadata": {},
     "output_type": "display_data"
    },
    {
     "data": {
      "text/markdown": [
       "We have **64** rows of data in `talks`."
      ],
      "text/plain": [
       "<IPython.core.display.Markdown object>"
      ]
     },
     "metadata": {},
     "output_type": "display_data"
    }
   ],
   "source": [
    "with open(\"data.json\", \"r\", encoding = \"utf-8\") as f:\n",
    "    data_dict = json.load(f)\n",
    "    \n",
    "for k,v in data_dict.items():\n",
    "    mprint(f\"We have **{len(v)}** rows of data in `{k}`.\")"
   ]
  },
  {
   "cell_type": "markdown",
   "metadata": {},
   "source": [
    "#### Excel"
   ]
  },
  {
   "cell_type": "code",
   "execution_count": 8,
   "metadata": {},
   "outputs": [
    {
     "data": {
      "text/markdown": [
       "We have **66** rows of data in `company_df`."
      ],
      "text/plain": [
       "<IPython.core.display.Markdown object>"
      ]
     },
     "metadata": {},
     "output_type": "display_data"
    }
   ],
   "source": [
    "company_df = pd.read_excel(\"dataset.xlsx\")\n",
    "mprint(f\"We have **{len(company_df.index)}** rows of data in `company_df`.\")"
   ]
  },
  {
   "cell_type": "markdown",
   "metadata": {},
   "source": [
    "-----\n",
    "# Example #1 - automating ChatGPT through the OpenAI API  \n",
    "---"
   ]
  },
  {
   "cell_type": "markdown",
   "metadata": {},
   "source": [
    "## Explore the data\n",
    "\n",
    "The dataset in `app_feedback` consists of app feedback messages submitted by customers."
   ]
  },
  {
   "cell_type": "code",
   "execution_count": 9,
   "metadata": {},
   "outputs": [
    {
     "data": {
      "text/markdown": [
       "We have **20** feedback items."
      ],
      "text/plain": [
       "<IPython.core.display.Markdown object>"
      ]
     },
     "metadata": {},
     "output_type": "display_data"
    }
   ],
   "source": [
    "feedback_list = data_dict[\"app_feedback\"]\n",
    "feedback_df = pd.DataFrame(feedback_list)\n",
    "mprint(f\"We have **{len(feedback_df.index)}** feedback items.\")"
   ]
  },
  {
   "cell_type": "code",
   "execution_count": 10,
   "metadata": {},
   "outputs": [
    {
     "data": {
      "text/html": [
       "<div>\n",
       "<style scoped>\n",
       "    .dataframe tbody tr th:only-of-type {\n",
       "        vertical-align: middle;\n",
       "    }\n",
       "\n",
       "    .dataframe tbody tr th {\n",
       "        vertical-align: top;\n",
       "    }\n",
       "\n",
       "    .dataframe thead th {\n",
       "        text-align: right;\n",
       "    }\n",
       "</style>\n",
       "<table border=\"1\" class=\"dataframe\">\n",
       "  <thead>\n",
       "    <tr style=\"text-align: right;\">\n",
       "      <th></th>\n",
       "      <th>i</th>\n",
       "      <th>message</th>\n",
       "      <th>mentions_performance</th>\n",
       "    </tr>\n",
       "  </thead>\n",
       "  <tbody>\n",
       "    <tr>\n",
       "      <th>13</th>\n",
       "      <td>14</td>\n",
       "      <td>The push notifications can be overwhelming; pl...</td>\n",
       "      <td>0</td>\n",
       "    </tr>\n",
       "    <tr>\n",
       "      <th>18</th>\n",
       "      <td>19</td>\n",
       "      <td>The app's performance drops significantly when...</td>\n",
       "      <td>1</td>\n",
       "    </tr>\n",
       "    <tr>\n",
       "      <th>11</th>\n",
       "      <td>12</td>\n",
       "      <td>The app could benefit from a better recommenda...</td>\n",
       "      <td>0</td>\n",
       "    </tr>\n",
       "    <tr>\n",
       "      <th>19</th>\n",
       "      <td>20</td>\n",
       "      <td>I really like the app, but it would be nice to...</td>\n",
       "      <td>0</td>\n",
       "    </tr>\n",
       "    <tr>\n",
       "      <th>15</th>\n",
       "      <td>16</td>\n",
       "      <td>I'd love the ability to save items for later, ...</td>\n",
       "      <td>0</td>\n",
       "    </tr>\n",
       "  </tbody>\n",
       "</table>\n",
       "</div>"
      ],
      "text/plain": [
       "     i                                            message   \n",
       "13  14  The push notifications can be overwhelming; pl...  \\\n",
       "18  19  The app's performance drops significantly when...   \n",
       "11  12  The app could benefit from a better recommenda...   \n",
       "19  20  I really like the app, but it would be nice to...   \n",
       "15  16  I'd love the ability to save items for later, ...   \n",
       "\n",
       "    mentions_performance  \n",
       "13                     0  \n",
       "18                     1  \n",
       "11                     0  \n",
       "19                     0  \n",
       "15                     0  "
      ]
     },
     "execution_count": 10,
     "metadata": {},
     "output_type": "execute_result"
    }
   ],
   "source": [
    "feedback_df.sample(5)"
   ]
  },
  {
   "cell_type": "code",
   "execution_count": 11,
   "metadata": {},
   "outputs": [
    {
     "data": {
      "text/markdown": [
       "\n",
       "**Feedback** (*i*: `20` - *performance*: `0`):\n",
       "> I really like the app, but it would be nice to have a tutorial for first-time users to get familiar with the interface.\n"
      ],
      "text/plain": [
       "<IPython.core.display.Markdown object>"
      ]
     },
     "metadata": {},
     "output_type": "display_data"
    }
   ],
   "source": [
    "obs = feedback_df.sample(1).iloc[0]\n",
    "\n",
    "mprint(f\"\"\"\n",
    "**Feedback** (*i*: `{obs['i']}` - *performance*: `{obs['mentions_performance']}`):\n",
    "> {obs['message']}\n",
    "\"\"\")"
   ]
  },
  {
   "cell_type": "markdown",
   "metadata": {},
   "source": [
    "----\n",
    "## Develop our prompt"
   ]
  },
  {
   "cell_type": "code",
   "execution_count": 12,
   "metadata": {},
   "outputs": [],
   "source": [
    "prompt_template = \"\"\"\n",
    "Identify whether the customer feedback text below mentions performance issues with our app.\n",
    "Answer using the following JSON format = {{\"i\" : i, \"mentions_performance\" : 1 or 0}}\n",
    "\n",
    "Feedback text, i = {i}:   \n",
    "{message}\n",
    "\n",
    "JSON = \n",
    "\"\"\".strip()"
   ]
  },
  {
   "cell_type": "code",
   "execution_count": 13,
   "metadata": {},
   "outputs": [
    {
     "name": "stdout",
     "output_type": "stream",
     "text": [
      "Identify whether the customer feedback text below mentions performance issues with our app.\n",
      "Answer using the following JSON format = {\"i\" : i, \"mentions_performance\" : 1 or 0}\n",
      "\n",
      "Feedback text, i = 3:   \n",
      "The app often becomes unresponsive, especially when browsing through the product list. It's very frustrating.\n",
      "\n",
      "JSON =\n"
     ]
    }
   ],
   "source": [
    "obs = feedback_df.sample(1).iloc[0].to_dict()\n",
    "prompt = prompt_template.format(**obs)\n",
    "print(prompt)"
   ]
  },
  {
   "cell_type": "markdown",
   "metadata": {},
   "source": [
    "### How much tokens would this use?"
   ]
  },
  {
   "cell_type": "code",
   "execution_count": 14,
   "metadata": {},
   "outputs": [],
   "source": [
    "encoder = tiktoken.encoding_for_model(\"gpt-3.5-turbo\")"
   ]
  },
  {
   "cell_type": "code",
   "execution_count": 15,
   "metadata": {},
   "outputs": [
    {
     "data": {
      "text/plain": [
       "70"
      ]
     },
     "execution_count": 15,
     "metadata": {},
     "output_type": "execute_result"
    }
   ],
   "source": [
    "len(encoder.encode(prompt))"
   ]
  },
  {
   "cell_type": "code",
   "execution_count": 16,
   "metadata": {},
   "outputs": [
    {
     "data": {
      "text/plain": [
       "13"
      ]
     },
     "execution_count": 16,
     "metadata": {},
     "output_type": "execute_result"
    }
   ],
   "source": [
    "completion_demo = \"\"\"{\"i\": 16, \"mentions_performance\": 0}\"\"\"\n",
    "len(encoder.encode(completion_demo))"
   ]
  },
  {
   "cell_type": "markdown",
   "metadata": {},
   "source": [
    "**How much would this costs?**\n",
    "\n",
    "Pricing as of April 2023 (https://openai.com/pricing):\n",
    "\n",
    "- **gpt-3.5-turbo:** \\\\$0.002 / 1K tokens\n",
    "- **gpt-4 (8k context):** \\\\$0.03 / 1K tokens\n",
    "- **gpt-3 - Davinci:** \\\\$0.02 / 1K tokens"
   ]
  },
  {
   "cell_type": "code",
   "execution_count": 17,
   "metadata": {},
   "outputs": [
    {
     "data": {
      "text/markdown": [
       "Running all **20** items would cost around **~$0.004**."
      ],
      "text/plain": [
       "<IPython.core.display.Markdown object>"
      ]
     },
     "metadata": {},
     "output_type": "display_data"
    }
   ],
   "source": [
    "num_tokens = 100\n",
    "num_items = 20\n",
    "price_per_1000_tokens = 0.002\n",
    "\n",
    "cost = (num_tokens/1000) * price_per_1000_tokens * num_items\n",
    "mprint(f\"\"\"Running all **{num_items:,}** items would cost around **~${cost}**.\"\"\")"
   ]
  },
  {
   "cell_type": "code",
   "execution_count": 18,
   "metadata": {},
   "outputs": [
    {
     "data": {
      "text/markdown": [
       "Running all **100,000** items would cost around **~$20.0**."
      ],
      "text/plain": [
       "<IPython.core.display.Markdown object>"
      ]
     },
     "metadata": {},
     "output_type": "display_data"
    }
   ],
   "source": [
    "num_tokens = 100\n",
    "num_items = 100_000\n",
    "price_per_1000_tokens = 0.002\n",
    "\n",
    "cost = (num_tokens/1000) * price_per_1000_tokens * num_items\n",
    "mprint(f\"\"\"Running all **{num_items:,}** items would cost around **~${cost}**.\"\"\")"
   ]
  },
  {
   "cell_type": "markdown",
   "metadata": {},
   "source": [
    "### Generate a list of prompts"
   ]
  },
  {
   "cell_type": "code",
   "execution_count": 19,
   "metadata": {},
   "outputs": [],
   "source": [
    "for row in feedback_list:\n",
    "    prompt = prompt_template.format(**row)\n",
    "    row[\"prompt\"] = prompt"
   ]
  },
  {
   "cell_type": "code",
   "execution_count": 20,
   "metadata": {},
   "outputs": [
    {
     "name": "stdout",
     "output_type": "stream",
     "text": [
      "Identify whether the customer feedback text below mentions performance issues with our app.\n",
      "Answer using the following JSON format = {\"i\" : i, \"mentions_performance\" : 1 or 0}\n",
      "\n",
      "Feedback text, i = 11:   \n",
      "I've been experiencing slow performance when trying to view my order history. It would be great if you could look into this.\n",
      "\n",
      "JSON =\n"
     ]
    }
   ],
   "source": [
    "print(feedback_list[10][\"prompt\"])"
   ]
  },
  {
   "cell_type": "markdown",
   "metadata": {},
   "source": [
    "## Feed prompt to OpenAI API  \n",
    "\n",
    "OpenAI has many models:  \n",
    "https://platform.openai.com/docs/models/overview\n",
    "\n",
    "\n",
    "We are interested in the completion APIs, which come in two types:\n",
    "\n",
    "- **Text completion:** `GPT-3` (i.e., davinci, curie, babbage, ada)\n",
    "- **Chat completion:** `GPT-3.5` (ChatGPT) and `GPT-4`"
   ]
  },
  {
   "cell_type": "markdown",
   "metadata": {},
   "source": [
    "#### Example item"
   ]
  },
  {
   "cell_type": "code",
   "execution_count": 21,
   "metadata": {},
   "outputs": [
    {
     "data": {
      "text/markdown": [
       "Estimate of token usage for the prompt: **70** tokens."
      ],
      "text/plain": [
       "<IPython.core.display.Markdown object>"
      ]
     },
     "metadata": {},
     "output_type": "display_data"
    },
    {
     "name": "stdout",
     "output_type": "stream",
     "text": [
      "Identify whether the customer feedback text below mentions performance issues with our app.\n",
      "Answer using the following JSON format = {\"i\" : i, \"mentions_performance\" : 1 or 0}\n",
      "\n",
      "Feedback text, i = 9:   \n",
      "It's annoying when the app takes so long to process a payment. Can you improve the speed?\n",
      "\n",
      "JSON =\n"
     ]
    }
   ],
   "source": [
    "obs = feedback_df.sample(1).iloc[0].to_dict()\n",
    "prompt = prompt_template.format(**obs)\n",
    "mprint(f\"\"\"Estimate of token usage for the prompt: **{len(encoder.encode(prompt))}** tokens.\"\"\")\n",
    "print(prompt)"
   ]
  },
  {
   "cell_type": "markdown",
   "metadata": {},
   "source": [
    "### Chat completion endpoint"
   ]
  },
  {
   "cell_type": "code",
   "execution_count": 22,
   "metadata": {},
   "outputs": [
    {
     "data": {
      "text/plain": [
       "{'id': 'chatcmpl-79Hh80NTvZVP1f6EGhvPZlGrMllkd',\n",
       " 'object': 'chat.completion',\n",
       " 'created': 1682447326,\n",
       " 'model': 'gpt-3.5-turbo-0301',\n",
       " 'usage': {'prompt_tokens': 89, 'completion_tokens': 15, 'total_tokens': 104},\n",
       " 'choices': [{'message': {'role': 'assistant',\n",
       "    'content': '{\"i\" : 9, \"mentions_performance\" : 1}'},\n",
       "   'finish_reason': 'stop',\n",
       "   'index': 0}]}"
      ]
     },
     "execution_count": 22,
     "metadata": {},
     "output_type": "execute_result"
    }
   ],
   "source": [
    "res = openai.ChatCompletion.create(\n",
    "    model=\"gpt-3.5-turbo\", ## or gpt-4\n",
    "    temperature = 0,\n",
    "    max_tokens = 300,\n",
    "    messages=[\n",
    "        {\"role\": \"system\", \"content\": \"You are a helpful assistant.\"},\n",
    "        {\"role\": \"user\", \"content\": prompt}\n",
    "    ]\n",
    ")\n",
    "\n",
    "res = res.to_dict_recursive()\n",
    "res"
   ]
  },
  {
   "cell_type": "markdown",
   "metadata": {},
   "source": [
    "**We can easily process this back into Python:**"
   ]
  },
  {
   "cell_type": "code",
   "execution_count": 23,
   "metadata": {},
   "outputs": [
    {
     "data": {
      "text/plain": [
       "'{\"i\" : 9, \"mentions_performance\" : 1}'"
      ]
     },
     "execution_count": 23,
     "metadata": {},
     "output_type": "execute_result"
    }
   ],
   "source": [
    "content = res[\"choices\"][0][\"message\"][\"content\"]\n",
    "content"
   ]
  },
  {
   "cell_type": "code",
   "execution_count": 24,
   "metadata": {},
   "outputs": [
    {
     "data": {
      "text/plain": [
       "{'i': 9, 'mentions_performance': 1}"
      ]
     },
     "execution_count": 24,
     "metadata": {},
     "output_type": "execute_result"
    }
   ],
   "source": [
    "pred_dict = json.loads(content)\n",
    "pred_dict"
   ]
  },
  {
   "cell_type": "markdown",
   "metadata": {},
   "source": [
    "### Text completion endpoint\n",
    "\n",
    "The `gpt-3.5-turbo` API is generally the best value for money, however, you can't fine-tune it (yet?).   \n",
    "\n",
    "Fine-tuning is available for the GPT-3 series, which consists of the following models (from most powerful to least expensive):\n",
    "\n",
    "- `davinci`   \n",
    "- `curie`   \n",
    "- `babbage`   \n",
    "- `ada`   \n",
    "\n",
    "Generally speaking you won't get good results with `curie` / `babbage` / `ada` unless you fine-tune them."
   ]
  },
  {
   "cell_type": "code",
   "execution_count": 25,
   "metadata": {},
   "outputs": [
    {
     "data": {
      "text/plain": [
       "{'id': 'cmpl-79HhAoxthFU2OU63wyd3F7erjQRth',\n",
       " 'object': 'text_completion',\n",
       " 'created': 1682447328,\n",
       " 'model': 'text-davinci-003',\n",
       " 'choices': [{'text': ' {\"i\" : 9, \"mentions_performance\" : 1}',\n",
       "   'index': 0,\n",
       "   'logprobs': None,\n",
       "   'finish_reason': 'stop'}],\n",
       " 'usage': {'prompt_tokens': 76, 'completion_tokens': 15, 'total_tokens': 91}}"
      ]
     },
     "execution_count": 25,
     "metadata": {},
     "output_type": "execute_result"
    }
   ],
   "source": [
    "model = \"text-davinci-003\"\n",
    "#model = \"text-curie-001\"\n",
    "#model = \"text-babbage-001\"\n",
    "#model = \"text-ada-001\"\n",
    "\n",
    "res = openai.Completion.create(\n",
    "    model = model,\n",
    "    temperature = 0,\n",
    "    max_tokens = 300,\n",
    "    prompt = prompt\n",
    ")\n",
    "\n",
    "res = res.to_dict_recursive()\n",
    "res"
   ]
  },
  {
   "cell_type": "markdown",
   "metadata": {},
   "source": [
    "---\n",
    "## Generate predictions for all feedback items"
   ]
  },
  {
   "cell_type": "markdown",
   "metadata": {},
   "source": [
    "#### Wrap things up in a function"
   ]
  },
  {
   "cell_type": "code",
   "execution_count": 26,
   "metadata": {},
   "outputs": [],
   "source": [
    "def process_item(obs, model = \"gpt-3.5-turbo\", \n",
    "                prompt_template = prompt_template, \n",
    "                verbose = 0):\n",
    "    ## Create prompt\n",
    "    prompt = prompt_template.format(**obs)\n",
    "    if verbose > 0: print(prompt)\n",
    "    \n",
    "    ## Generate prediction\n",
    "    res = openai.ChatCompletion.create(\n",
    "        model = model,\n",
    "        temperature = 0,\n",
    "        max_tokens = 300,\n",
    "        messages = [\n",
    "            {\"role\": \"system\", \"content\": \"You are a helpful assistant.\"},\n",
    "            {\"role\": \"user\", \"content\": prompt}\n",
    "        ]\n",
    "    )\n",
    "    \n",
    "    ## Process prediction\n",
    "    res = res.to_dict_recursive()\n",
    "    content = res[\"choices\"][0][\"message\"][\"content\"]\n",
    "    pred_dict = json.loads(content)\n",
    "    pred_dict[\"original_i\"] = obs[\"i\"]\n",
    "    \n",
    "    return pred_dict"
   ]
  },
  {
   "cell_type": "markdown",
   "metadata": {},
   "source": [
    "#### Test"
   ]
  },
  {
   "cell_type": "code",
   "execution_count": 27,
   "metadata": {},
   "outputs": [
    {
     "name": "stdout",
     "output_type": "stream",
     "text": [
      "Identify whether the customer feedback text below mentions performance issues with our app.\n",
      "Answer using the following JSON format = {\"i\" : i, \"mentions_performance\" : 1 or 0}\n",
      "\n",
      "Feedback text, i = 15:   \n",
      "Sometimes the app hangs when I try to update my profile info. Is there a way to fix this?\n",
      "\n",
      "JSON =\n"
     ]
    },
    {
     "data": {
      "text/plain": [
       "{'i': 15, 'mentions_performance': 1, 'original_i': 15}"
      ]
     },
     "execution_count": 27,
     "metadata": {},
     "output_type": "execute_result"
    }
   ],
   "source": [
    "obs = feedback_df.sample(1).iloc[0].to_dict()\n",
    "res = process_item(obs, verbose = 1)\n",
    "res"
   ]
  },
  {
   "cell_type": "markdown",
   "metadata": {},
   "source": [
    "#### Run for all observations"
   ]
  },
  {
   "cell_type": "code",
   "execution_count": 28,
   "metadata": {},
   "outputs": [
    {
     "data": {
      "application/vnd.jupyter.widget-view+json": {
       "model_id": "3f6c759a9bbb40c4a32cf081939697d1",
       "version_major": 2,
       "version_minor": 0
      },
      "text/plain": [
       "  0%|          | 0/20 [00:00<?, ?it/s]"
      ]
     },
     "metadata": {},
     "output_type": "display_data"
    }
   ],
   "source": [
    "prediction_list = []\n",
    "for row in tqdm(feedback_list):\n",
    "    res = process_item(row)\n",
    "    prediction_list.append(res)"
   ]
  },
  {
   "cell_type": "code",
   "execution_count": 29,
   "metadata": {},
   "outputs": [],
   "source": [
    "prediction_df = pd.DataFrame(prediction_list)"
   ]
  },
  {
   "cell_type": "code",
   "execution_count": 30,
   "metadata": {},
   "outputs": [],
   "source": [
    "## Double check to make sure ChatGPT followed our instructions:\n",
    "assert all(prediction_df[\"i\"] == prediction_df[\"original_i\"]), \"The generated index is not the same...\""
   ]
  },
  {
   "cell_type": "markdown",
   "metadata": {},
   "source": [
    "#### Evaluate"
   ]
  },
  {
   "cell_type": "code",
   "execution_count": 31,
   "metadata": {},
   "outputs": [],
   "source": [
    "prediction_df = prediction_df.drop(\"i\", axis = 1, errors = \"ignore\").rename(columns = {\n",
    "    \"mentions_performance\" : \"prediction\",\n",
    "    \"original_i\" : \"i\"\n",
    "})"
   ]
  },
  {
   "cell_type": "code",
   "execution_count": 32,
   "metadata": {},
   "outputs": [],
   "source": [
    "feedback_df = pd.merge(feedback_df, prediction_df, on = \"i\", how = \"left\")"
   ]
  },
  {
   "cell_type": "code",
   "execution_count": 33,
   "metadata": {},
   "outputs": [
    {
     "data": {
      "text/html": [
       "<div>\n",
       "<style scoped>\n",
       "    .dataframe tbody tr th:only-of-type {\n",
       "        vertical-align: middle;\n",
       "    }\n",
       "\n",
       "    .dataframe tbody tr th {\n",
       "        vertical-align: top;\n",
       "    }\n",
       "\n",
       "    .dataframe thead th {\n",
       "        text-align: right;\n",
       "    }\n",
       "</style>\n",
       "<table border=\"1\" class=\"dataframe\">\n",
       "  <thead>\n",
       "    <tr style=\"text-align: right;\">\n",
       "      <th></th>\n",
       "      <th>i</th>\n",
       "      <th>message</th>\n",
       "      <th>mentions_performance</th>\n",
       "      <th>prediction</th>\n",
       "    </tr>\n",
       "  </thead>\n",
       "  <tbody>\n",
       "    <tr>\n",
       "      <th>0</th>\n",
       "      <td>1</td>\n",
       "      <td>The app is great, but it takes a while to load...</td>\n",
       "      <td>1</td>\n",
       "      <td>1</td>\n",
       "    </tr>\n",
       "    <tr>\n",
       "      <th>1</th>\n",
       "      <td>2</td>\n",
       "      <td>I love the design and functionality, but I wis...</td>\n",
       "      <td>0</td>\n",
       "      <td>0</td>\n",
       "    </tr>\n",
       "    <tr>\n",
       "      <th>2</th>\n",
       "      <td>3</td>\n",
       "      <td>The app often becomes unresponsive, especially...</td>\n",
       "      <td>1</td>\n",
       "      <td>1</td>\n",
       "    </tr>\n",
       "  </tbody>\n",
       "</table>\n",
       "</div>"
      ],
      "text/plain": [
       "   i                                            message  mentions_performance   \n",
       "0  1  The app is great, but it takes a while to load...                     1  \\\n",
       "1  2  I love the design and functionality, but I wis...                     0   \n",
       "2  3  The app often becomes unresponsive, especially...                     1   \n",
       "\n",
       "   prediction  \n",
       "0           1  \n",
       "1           0  \n",
       "2           1  "
      ]
     },
     "execution_count": 33,
     "metadata": {},
     "output_type": "execute_result"
    }
   ],
   "source": [
    "feedback_df.head(3)"
   ]
  },
  {
   "cell_type": "code",
   "execution_count": 34,
   "metadata": {},
   "outputs": [
    {
     "name": "stdout",
     "output_type": "stream",
     "text": [
      "              precision    recall  f1-score   support\n",
      "\n",
      "           0       1.00      1.00      1.00        10\n",
      "           1       1.00      1.00      1.00        10\n",
      "\n",
      "    accuracy                           1.00        20\n",
      "   macro avg       1.00      1.00      1.00        20\n",
      "weighted avg       1.00      1.00      1.00        20\n",
      "\n"
     ]
    }
   ],
   "source": [
    "print(classification_report(\n",
    "    feedback_df[\"mentions_performance\"], \n",
    "    feedback_df[\"prediction\"]\n",
    "))"
   ]
  },
  {
   "cell_type": "markdown",
   "metadata": {},
   "source": [
    "---\n",
    "## Side-note: how to speed things up?\n",
    "\n",
    "The ChatGPT model is slow, and the GPT-4 model is extremely slow.\n",
    "\n",
    "For example, this task took ~23 seconds for 20 observations, that is about a second per prediction!\n",
    "\n",
    "100,000 predictions * 1 second = ~28 hours...\n",
    "\n",
    "**How do we speed things up?**\n",
    "\n",
    "There are several ways to speed things up:\n",
    "\n",
    "**1. Don't run predictions on data you don't need predictions for.**\n",
    "\n",
    "**2. The GPT-3 endpoints support batching up to 20 predictions at a time.**"
   ]
  },
  {
   "cell_type": "markdown",
   "metadata": {},
   "source": [
    "**3. Combine multiple predictions into a single prompt**"
   ]
  },
  {
   "cell_type": "code",
   "execution_count": 35,
   "metadata": {},
   "outputs": [
    {
     "name": "stdout",
     "output_type": "stream",
     "text": [
      "CPU times: total: 15.6 ms\n",
      "Wall time: 7.47 s\n"
     ]
    },
    {
     "data": {
      "text/plain": [
       "[{'i': 1, 'mentions_performance': 1},\n",
       " {'i': 2, 'mentions_performance': 0},\n",
       " {'i': 3, 'mentions_performance': 1},\n",
       " {'i': 4, 'mentions_performance': 0},\n",
       " {'i': 5, 'mentions_performance': 1}]"
      ]
     },
     "execution_count": 35,
     "metadata": {},
     "output_type": "execute_result"
    }
   ],
   "source": [
    "%%time\n",
    "prompt = \"\"\"\n",
    "Identify whether the customer feedback texts below mentions performance issues with our app.\n",
    "Answer using the following JSON format = [{{\"i\" : i, \"mentions_performance\" : 1 or 0}}, ...]\n",
    "\n",
    "to_classify = [\n",
    "{\"i\" : 1, \"message\" : \"The app is great, but it takes a while to load the main screen. Can you improve the performance?\"}\n",
    "{\"i\" : 2, \"message\" : \"I love the design and functionality, but I wish there was a dark mode.\"}\n",
    "{\"i\" : 3, \"message\" : \"The app often becomes unresponsive, especially when browsing through the product list. It's very frustrating.\"}\n",
    "{\"i\" : 4, \"message\" : \"I appreciate the recent update, but please add more filter options when searching for items.\"}\n",
    "{\"i\" : 5, \"message\" : \"The app is slow to load images, which makes it hard to browse products efficiently. Otherwise, it's a great app!\"}\n",
    "]\n",
    "\n",
    "JSON = \n",
    "\"\"\"\n",
    "\n",
    "res = openai.ChatCompletion.create(\n",
    "    model=\"gpt-3.5-turbo\",\n",
    "    temperature = 0,\n",
    "    max_tokens = 500,\n",
    "    messages=[\n",
    "        {\"role\": \"system\", \"content\": \"You are a helpful assistant.\"},\n",
    "        {\"role\": \"user\", \"content\": prompt}\n",
    "    ]\n",
    ")\n",
    "\n",
    "res = res.to_dict_recursive()\n",
    "content = res[\"choices\"][0][\"message\"][\"content\"]\n",
    "pred_dict = json.loads(content)\n",
    "pred_dict"
   ]
  },
  {
   "cell_type": "markdown",
   "metadata": {},
   "source": [
    "**4. Saturate the rate limits by making async requests**\n",
    "\n",
    "Limits for the ChatGPT API:\n",
    "- 3,500 RPM (Requests-per-minute)\n",
    "- 90,000 TPM (Tokens-per-minute)\n",
    "\n",
    "**Theoretical throughput:** 90,000 / 120 tokens = 750 predictions per minute    \n",
    "**Sequential throughput:** 60 predictions per minute\n",
    "\n",
    "So we can potentially speed things up 12x with an async approach!\n",
    "\n",
    "For an implementation example, see the OpenAI Cookbook:\n",
    "\n",
    "- https://github.com/openai/openai-cookbook/blob/main/examples/How_to_handle_rate_limits.ipynb\n",
    "- https://github.com/openai/openai-cookbook/blob/297c53430cad2d05ba763ab9dca64309cb5091e9/examples/api_request_parallel_processor.py"
   ]
  },
  {
   "cell_type": "markdown",
   "metadata": {},
   "source": [
    "-----\n",
    "# Example #2 - LangChain - Simple replication\n",
    "---\n",
    "\n",
    "Source documents:\n",
    "- https://github.com/hwchase17/langchain/blob/master/docs/getting_started/getting_started.md"
   ]
  },
  {
   "cell_type": "markdown",
   "metadata": {},
   "source": [
    "### Imports"
   ]
  },
  {
   "cell_type": "code",
   "execution_count": 36,
   "metadata": {},
   "outputs": [],
   "source": [
    "from langchain.chat_models import ChatOpenAI\n",
    "from langchain.prompts import (\n",
    "    ChatPromptTemplate,\n",
    "    HumanMessagePromptTemplate,\n",
    ")"
   ]
  },
  {
   "cell_type": "markdown",
   "metadata": {},
   "source": [
    "### Replication"
   ]
  },
  {
   "cell_type": "markdown",
   "metadata": {},
   "source": [
    "#### Define chat object"
   ]
  },
  {
   "cell_type": "code",
   "execution_count": 37,
   "metadata": {},
   "outputs": [],
   "source": [
    "chat = ChatOpenAI(model_name=\"gpt-3.5-turbo\", temperature = 0)"
   ]
  },
  {
   "cell_type": "markdown",
   "metadata": {},
   "source": [
    "#### Define prompt template"
   ]
  },
  {
   "cell_type": "code",
   "execution_count": 38,
   "metadata": {},
   "outputs": [],
   "source": [
    "human_message_prompt = HumanMessagePromptTemplate.from_template(prompt_template)\n",
    "chat_prompt = ChatPromptTemplate.from_messages([human_message_prompt])"
   ]
  },
  {
   "cell_type": "markdown",
   "metadata": {},
   "source": [
    "#### Generate prediction"
   ]
  },
  {
   "cell_type": "code",
   "execution_count": 39,
   "metadata": {},
   "outputs": [
    {
     "name": "stdout",
     "output_type": "stream",
     "text": [
      "messages=[HumanMessage(content='Identify whether the customer feedback text below mentions performance issues with our app.\\nAnswer using the following JSON format = {\"i\" : i, \"mentions_performance\" : 1 or 0}\\n\\nFeedback text, i = 10:   \\nPlease add a feature to create and share wish lists with friends and family.\\n\\nJSON =', additional_kwargs={})]\n"
     ]
    }
   ],
   "source": [
    "obs = feedback_df.sample(1).iloc[0].to_dict()\n",
    "prompt = chat_prompt.format_prompt(**obs)\n",
    "print(prompt)"
   ]
  },
  {
   "cell_type": "code",
   "execution_count": 40,
   "metadata": {},
   "outputs": [
    {
     "data": {
      "text/plain": [
       "AIMessage(content='{\"i\" : 10, \"mentions_performance\" : 0}', additional_kwargs={})"
      ]
     },
     "execution_count": 40,
     "metadata": {},
     "output_type": "execute_result"
    }
   ],
   "source": [
    "res = chat(prompt.to_messages())\n",
    "res"
   ]
  },
  {
   "cell_type": "code",
   "execution_count": 41,
   "metadata": {},
   "outputs": [
    {
     "data": {
      "text/plain": [
       "{'i': 10, 'mentions_performance': 0}"
      ]
     },
     "execution_count": 41,
     "metadata": {},
     "output_type": "execute_result"
    }
   ],
   "source": [
    "json.loads(res.content)"
   ]
  },
  {
   "cell_type": "code",
   "execution_count": 42,
   "metadata": {},
   "outputs": [
    {
     "name": "stdout",
     "output_type": "stream",
     "text": [
      "\n",
      "----------------------------------------------------------------------------------------------------\n",
      "Order: 0\n",
      "----------------------------------------------------------------------------------------------------\n",
      "\n",
      "---Chat prompt:--- [{\"role\": \"user\", \"content\": \"Identify whether the customer feedback text below mentions performance issues with our app.\n",
      "Answer using the following JSON format = {\"i\" : i, \"mentions_performance\" : 1 or 0}\n",
      "\n",
      "Feedback text, i = 10:   \n",
      "Please add a feature to create and share wish lists with friends and family.\n",
      "\n",
      "JSON =\"}]\n"
     ]
    }
   ],
   "source": [
    "#print_recent_requests()"
   ]
  },
  {
   "cell_type": "markdown",
   "metadata": {},
   "source": [
    "-----\n",
    "# Example #3 - LangChain - PyData session recommender\n",
    "---\n",
    "\n",
    "Source documents:\n",
    "- https://python.langchain.com/en/latest/modules/chains/index_examples/question_answering.html"
   ]
  },
  {
   "cell_type": "markdown",
   "metadata": {},
   "source": [
    "### Imports"
   ]
  },
  {
   "cell_type": "code",
   "execution_count": 43,
   "metadata": {},
   "outputs": [],
   "source": [
    "from langchain.llms.openai import OpenAI\n",
    "from langchain.chat_models import ChatOpenAI\n",
    "from langchain.embeddings.openai import OpenAIEmbeddings\n",
    "from langchain.embeddings import OpenAIEmbeddings\n",
    "from langchain.chains.question_answering import load_qa_chain\n",
    "from langchain import PromptTemplate\n",
    "from langchain.document_loaders import DataFrameLoader"
   ]
  },
  {
   "cell_type": "markdown",
   "metadata": {},
   "source": [
    "### Data"
   ]
  },
  {
   "cell_type": "code",
   "execution_count": 44,
   "metadata": {},
   "outputs": [
    {
     "data": {
      "text/html": [
       "<div>\n",
       "<style scoped>\n",
       "    .dataframe tbody tr th:only-of-type {\n",
       "        vertical-align: middle;\n",
       "    }\n",
       "\n",
       "    .dataframe tbody tr th {\n",
       "        vertical-align: top;\n",
       "    }\n",
       "\n",
       "    .dataframe thead th {\n",
       "        text-align: right;\n",
       "    }\n",
       "</style>\n",
       "<table border=\"1\" class=\"dataframe\">\n",
       "  <thead>\n",
       "    <tr style=\"text-align: right;\">\n",
       "      <th></th>\n",
       "      <th>title</th>\n",
       "      <th>abstract</th>\n",
       "      <th>start_datetime</th>\n",
       "      <th>speakers</th>\n",
       "    </tr>\n",
       "  </thead>\n",
       "  <tbody>\n",
       "    <tr>\n",
       "      <th>42</th>\n",
       "      <td>Python Anytime, Anywhere with Anaconda Notebooks</td>\n",
       "      <td>Do you wish there was an easier way to get sta...</td>\n",
       "      <td>Friday 2023-28-04 - 10:15 AM</td>\n",
       "      <td>Sophia Yang</td>\n",
       "    </tr>\n",
       "    <tr>\n",
       "      <th>0</th>\n",
       "      <td>Automated Machine Learning &amp; Tuning with FLAML</td>\n",
       "      <td>In this session, we will provide an in-depth a...</td>\n",
       "      <td>Wednesday 2023-26-04 - 09:00 AM</td>\n",
       "      <td>Li Jiang, Chi Wang, Qingyun Wu, Misha Desai</td>\n",
       "    </tr>\n",
       "    <tr>\n",
       "      <th>38</th>\n",
       "      <td>MLOps Deployment Patterns with Delta Lake and ...</td>\n",
       "      <td>Would you be better off deploying an ML model ...</td>\n",
       "      <td>Thursday 2023-27-04 - 04:15 PM</td>\n",
       "      <td>Mary Grace Moesta</td>\n",
       "    </tr>\n",
       "    <tr>\n",
       "      <th>16</th>\n",
       "      <td>Keynote: Scientific Computing and the Gateway ...</td>\n",
       "      <td>Over the last decade, we have seen innumerable...</td>\n",
       "      <td>Thursday 2023-27-04 - 09:00 AM</td>\n",
       "      <td>Katrina Riehl</td>\n",
       "    </tr>\n",
       "    <tr>\n",
       "      <th>7</th>\n",
       "      <td>Building Reliable, Open Lakehouses with Delta ...</td>\n",
       "      <td>Delta Lake: Building Reliable and Scalable Ope...</td>\n",
       "      <td>Wednesday 2023-26-04 - 11:00 AM</td>\n",
       "      <td>Jim Hibbard</td>\n",
       "    </tr>\n",
       "  </tbody>\n",
       "</table>\n",
       "</div>"
      ],
      "text/plain": [
       "                                                title   \n",
       "42   Python Anytime, Anywhere with Anaconda Notebooks  \\\n",
       "0      Automated Machine Learning & Tuning with FLAML   \n",
       "38  MLOps Deployment Patterns with Delta Lake and ...   \n",
       "16  Keynote: Scientific Computing and the Gateway ...   \n",
       "7   Building Reliable, Open Lakehouses with Delta ...   \n",
       "\n",
       "                                             abstract   \n",
       "42  Do you wish there was an easier way to get sta...  \\\n",
       "0   In this session, we will provide an in-depth a...   \n",
       "38  Would you be better off deploying an ML model ...   \n",
       "16  Over the last decade, we have seen innumerable...   \n",
       "7   Delta Lake: Building Reliable and Scalable Ope...   \n",
       "\n",
       "                     start_datetime   \n",
       "42     Friday 2023-28-04 - 10:15 AM  \\\n",
       "0   Wednesday 2023-26-04 - 09:00 AM   \n",
       "38   Thursday 2023-27-04 - 04:15 PM   \n",
       "16   Thursday 2023-27-04 - 09:00 AM   \n",
       "7   Wednesday 2023-26-04 - 11:00 AM   \n",
       "\n",
       "                                       speakers  \n",
       "42                                  Sophia Yang  \n",
       "0   Li Jiang, Chi Wang, Qingyun Wu, Misha Desai  \n",
       "38                            Mary Grace Moesta  \n",
       "16                                Katrina Riehl  \n",
       "7                                   Jim Hibbard  "
      ]
     },
     "execution_count": 44,
     "metadata": {},
     "output_type": "execute_result"
    }
   ],
   "source": [
    "talk_list = data_dict[\"talks\"]\n",
    "talk_df = pd.DataFrame(talk_list)\n",
    "talk_df.sample(5)"
   ]
  },
  {
   "cell_type": "markdown",
   "metadata": {},
   "source": [
    "### Preparation steps"
   ]
  },
  {
   "cell_type": "markdown",
   "metadata": {},
   "source": [
    "##### Initialize the OpenAI models"
   ]
  },
  {
   "cell_type": "code",
   "execution_count": 45,
   "metadata": {},
   "outputs": [],
   "source": [
    "chatModel = ChatOpenAI(\n",
    "    model_name = 'gpt-3.5-turbo',\n",
    "    temperature=0, \n",
    "    max_tokens = 2048\n",
    ")"
   ]
  },
  {
   "cell_type": "markdown",
   "metadata": {},
   "source": [
    "##### Let's prepare our input documents"
   ]
  },
  {
   "cell_type": "code",
   "execution_count": 46,
   "metadata": {},
   "outputs": [],
   "source": [
    "talk_df[\"full_text\"] = talk_df.apply(lambda row: f\"\"\"\n",
    "Title: {row[\"title\"]}\n",
    "Speakers: {row[\"speakers\"]}\n",
    "Start: {row[\"start_datetime\"]}\n",
    "Abstract:\n",
    "{row[\"abstract\"]}\"\"\".strip()\n",
    ", axis = 1)"
   ]
  },
  {
   "cell_type": "code",
   "execution_count": 47,
   "metadata": {},
   "outputs": [
    {
     "name": "stdout",
     "output_type": "stream",
     "text": [
      "Title: Automated Machine Learning & Tuning with FLAML\n",
      "Speakers: Li Jiang, Chi Wang, Qingyun Wu, Misha Desai\n",
      "Start: Wednesday 2023-26-04 - 09:00 AM\n",
      "Abstract:\n",
      "In this session, we will provide an in-depth and hands-on tutorial on Automated Machine Learning & Tuning with a fast python library named FLAML. We will start with an overview of the AutoML problem and the FLAML library. We will then introduce the hyperparameter optimization methods empowering the strong performance of FLAML. We will also demonstrate how to make the best use of FLAML to perform automated machine learning and hyperparameter tuning in various applications with the help of rich customization choices and advanced functionalities provided by FLAML. At last, we will share several new features of the library based on our latest research and development work around FLAML and close the tutorial with open problems and challenges learned from AutoML practice.\n"
     ]
    }
   ],
   "source": [
    "print(talk_df.iloc[0][\"full_text\"])"
   ]
  },
  {
   "cell_type": "markdown",
   "metadata": {},
   "source": [
    "## Figure out a way to find relevant events"
   ]
  },
  {
   "cell_type": "markdown",
   "metadata": {},
   "source": [
    "https://python.langchain.com/en/latest/modules/chains/index_examples/question_answering.html"
   ]
  },
  {
   "cell_type": "markdown",
   "metadata": {},
   "source": [
    "##### Design our prompt to convert the relevant sessions into a brief conference plan:"
   ]
  },
  {
   "cell_type": "code",
   "execution_count": 48,
   "metadata": {},
   "outputs": [],
   "source": [
    "prompt_template = \"\"\"You are an assistant that helps the user plan their PyData visit. Below are the tasks relevant to the users request. Here are your task requirements:\n",
    "- Convert the list into a conference plan split out by day.\n",
    "- Include a brief one-sentence summary for each recommendation. \n",
    "- Always also include the title, date, and speakers. \n",
    "- Avoid overlapping sessions. If there is overlap, pick the session most relevant.\n",
    "- If a session accidentally does not relate to what the user is looking for, exclude it. \n",
    "- Make sure the sessions are sorted chronologically. \n",
    "- Format the planning using markdown. Make sure it is easy to read, has nice spacing, and looks professionally.\n",
    "- Only include session mentioned under \"Relevant talks\". Never make up sessions.\n",
    "\n",
    "Relevant talks:\n",
    "{summaries}\n",
    "\n",
    "What the user is looking for: {question}\n",
    "\n",
    "Conference plan:\"\"\"\n",
    "schedule_prompt = PromptTemplate(\n",
    "    template=prompt_template, input_variables=[\"summaries\", \"question\"]\n",
    ")"
   ]
  },
  {
   "cell_type": "markdown",
   "metadata": {},
   "source": [
    "##### The issue:\n",
    "We can't fit all the events into a single prompt:"
   ]
  },
  {
   "cell_type": "code",
   "execution_count": 49,
   "metadata": {},
   "outputs": [
    {
     "data": {
      "text/markdown": [
       "Total number of tokens for all the talks: **10,513** tokens"
      ],
      "text/plain": [
       "<IPython.core.display.Markdown object>"
      ]
     },
     "metadata": {},
     "output_type": "display_data"
    }
   ],
   "source": [
    "all_events = \", \".join(talk_df[\"full_text\"].to_list())\n",
    "mprint(f\"\"\"Total number of tokens for all the talks: **{len(encoder.encode(all_events)):,}** tokens\"\"\")"
   ]
  },
  {
   "cell_type": "markdown",
   "metadata": {},
   "source": [
    "**How do we solve/bypass this problem?**\n",
    " \n",
    "`LangChain` provides several solutions to deal with this (`map_reduce`, `refine`, and `map_rerank`).\n",
    "\n",
    "I won't go into the details here, but essentially these methods will chunk up the problem and then feed the chunks back into aggregation prompts.\n",
    "\n",
    "This is easier to demonstrate than to explain:"
   ]
  },
  {
   "cell_type": "code",
   "execution_count": 50,
   "metadata": {},
   "outputs": [],
   "source": [
    "summarize_prompt_template = \"\"\"\n",
    "Check if the following session is relevant for what the user is looking for. \n",
    "If it is relevant, summarize the abstract and return using the following JSON format = {{\"author\" .. , \"date\" : .., \"title\" : .. \"abstract_summary\" ..}}.\n",
    "If not relevant, return \"\".\n",
    "{context}\n",
    "User request: {question}\n",
    "JSON = \n",
    "\"\"\".strip()\n",
    "summarize_prompt = PromptTemplate(\n",
    "    template=summarize_prompt_template, input_variables=[\"context\", \"question\"]\n",
    ")"
   ]
  },
  {
   "cell_type": "markdown",
   "metadata": {},
   "source": [
    "##### Create function to run it all"
   ]
  },
  {
   "cell_type": "code",
   "execution_count": 51,
   "metadata": {},
   "outputs": [],
   "source": [
    "def get_conference_plan(query, docs, verbose = False, model = chatModel, combine_prompt = schedule_prompt, question_prompt = summarize_prompt):\n",
    "    chain = load_qa_chain(\n",
    "        model, \n",
    "        chain_type=\"map_reduce\", ## stuff, map_reduce, refine, map_rerank\n",
    "        combine_prompt = combine_prompt, \n",
    "        question_prompt = question_prompt,\n",
    "        verbose = verbose\n",
    "    )\n",
    "\n",
    "    result = chain({\n",
    "        \"input_documents\" : docs.load(), \n",
    "        \"question\": query\n",
    "    }, return_only_outputs=True)\n",
    "    \n",
    "    return result[\"output_text\"]"
   ]
  },
  {
   "cell_type": "markdown",
   "metadata": {},
   "source": [
    "##### Create a conference plan based on a user query:"
   ]
  },
  {
   "cell_type": "code",
   "execution_count": 52,
   "metadata": {},
   "outputs": [],
   "source": [
    "docs = DataFrameLoader(talk_df.iloc[15:20], page_content_column=\"full_text\") ## This is really slow for all docs"
   ]
  },
  {
   "cell_type": "code",
   "execution_count": 53,
   "metadata": {},
   "outputs": [],
   "source": [
    "#clear_log_file()"
   ]
  },
  {
   "cell_type": "code",
   "execution_count": 54,
   "metadata": {},
   "outputs": [
    {
     "name": "stdout",
     "output_type": "stream",
     "text": [
      "\n",
      "\n",
      "\u001b[1m> Entering new MapReduceDocumentsChain chain...\u001b[0m\n",
      "Prompt after formatting:\n",
      "\u001b[32;1m\u001b[1;3mCheck if the following session is relevant for what the user is looking for. \n",
      "If it is relevant, summarize the abstract and return using the following JSON format = {\"author\" .. , \"date\" : .., \"title\" : .. \"abstract_summary\" ..}.\n",
      "If not relevant, return \"\".\n",
      "Title: Panel: “Building a Stronger Open Source Python Data Community: Trends, Gaps, and Collaborative Contributions”\n",
      "Speakers: Hamel Husain, Stefan Krawczyk, Katrina Riehl, Juanita Gomez, Zander Matheson\n",
      "Start: Wednesday 2023-26-04 - 03:30 PM\n",
      "Abstract:\n",
      "Expert on the field of software will share their stories in their journey of building a strong open source Python data community.\n",
      "User request: I love sessions that relate to scientific computing\n",
      "JSON =\u001b[0m\n",
      "Prompt after formatting:\n",
      "\u001b[32;1m\u001b[1;3mCheck if the following session is relevant for what the user is looking for. \n",
      "If it is relevant, summarize the abstract and return using the following JSON format = {\"author\" .. , \"date\" : .., \"title\" : .. \"abstract_summary\" ..}.\n",
      "If not relevant, return \"\".\n",
      "Title: Keynote: Scientific Computing and the Gateway to Open Source\n",
      "Speakers: Katrina Riehl\n",
      "Start: Thursday 2023-27-04 - 09:00 AM\n",
      "Abstract:\n",
      "Over the last decade, we have seen innumerable advancements in the scientific community due to the shift toward collaborative, open science. We've learned, as a community, we must work together in order to build the next generation of scientific innovation. The history of the scientific computing ecosystem is intricately tied to its open source initiatives. One cannot succeed without the other. In this talk, we'll review how the NumFOCUS organization contributes to the support, sustainability, and diversity of a vibrant scientific open source community. We will walk you through where we've been, where we are going, and the lessons we've learned along the way.\n",
      "User request: I love sessions that relate to scientific computing\n",
      "JSON =\u001b[0m\n",
      "Prompt after formatting:\n",
      "\u001b[32;1m\u001b[1;3mCheck if the following session is relevant for what the user is looking for. \n",
      "If it is relevant, summarize the abstract and return using the following JSON format = {\"author\" .. , \"date\" : .., \"title\" : .. \"abstract_summary\" ..}.\n",
      "If not relevant, return \"\".\n",
      "Title: A Perfect, Infinite-Precision, Game Physics in Python\n",
      "Speakers: Carl Kadie\n",
      "Start: Thursday 2023-27-04 - 10:15 AM\n",
      "Abstract:\n",
      "This fun and visual talk shows how to create a perfect (but impractical) physics engine in Python. The key is Python’s SymPy, a free package for computer algebra. The physics engine turns parts of physics, mathematics, and even philosophy into Python programming. We’ll learn about: * Simulating 2-D Newtonian physics such as Newton’s Cradle and the two-ball drop * Having the computer solve math problems too hard for us to personally solve * The surprising (even to physicists) non-determinism of a billiards break * Thoughts on making the simulator more practical If you are an enthusiast interested in what Python can do in other fields, or an expert interested in the limits of simulation and programming, this talk is for you!\n",
      "User request: I love sessions that relate to scientific computing\n",
      "JSON =\u001b[0m\n",
      "Prompt after formatting:\n",
      "\u001b[32;1m\u001b[1;3mCheck if the following session is relevant for what the user is looking for. \n",
      "If it is relevant, summarize the abstract and return using the following JSON format = {\"author\" .. , \"date\" : .., \"title\" : .. \"abstract_summary\" ..}.\n",
      "If not relevant, return \"\".\n",
      "Title: Plant a Touch-Me-Not: Train Models Without Anyone Touching Your Data with Flower\n",
      "Speakers: Krishi Sharma\n",
      "Start: Thursday 2023-27-04 - 10:15 AM\n",
      "Abstract:\n",
      "In the world of machine learning, more data and diverse data sets usually leads to better training, particularly with human centered products such as self-driving cars, IOT devices and medical applications. However, privacy and ethical concerns can make it difficult to effectively leverage many different datasets, particularly in medical and legal services. How can a data scientist or machine learning engineer leverage multiple data sources to train a model without centralizing the data in one place? How can one benefit from multiple datasets without the hassle of breaching data privacy and security?\n",
      "User request: I love sessions that relate to scientific computing\n",
      "JSON =\u001b[0m\n",
      "Prompt after formatting:\n",
      "\u001b[32;1m\u001b[1;3mCheck if the following session is relevant for what the user is looking for. \n",
      "If it is relevant, summarize the abstract and return using the following JSON format = {\"author\" .. , \"date\" : .., \"title\" : .. \"abstract_summary\" ..}.\n",
      "If not relevant, return \"\".\n",
      "Title: Quantifying Uncertainty in Time Series Forecasting with Conformal Prediction\n",
      "Speakers: Federico Garza Ramirez, Max Mergenthaler\n",
      "Start: Thursday 2023-27-04 - 10:15 AM\n",
      "Abstract:\n",
      "This talk will examine the use of conformal prediction in the context of time series analysis. The presentation will highlight the benefits of using conformal prediction to estimate uncertainty and demonstrate its application using open source python libraries for statistical, machine learning, and deep learning models (https://github.com/Nixtla).\n",
      "User request: I love sessions that relate to scientific computing\n",
      "JSON =\u001b[0m\n",
      "\n",
      "\n",
      "\u001b[1m> Entering new StuffDocumentsChain chain...\u001b[0m\n",
      "\n",
      "\n",
      "\u001b[1m> Entering new LLMChain chain...\u001b[0m\n",
      "Prompt after formatting:\n",
      "\u001b[32;1m\u001b[1;3mYou are an assistant that helps the user plan their PyData visit. Below are the tasks relevant to the users request. Here are your task requirements:\n",
      "- Convert the list into a conference plan split out by day.\n",
      "- Include a brief one-sentence summary for each recommendation. \n",
      "- Always also include the title, date, and speakers. \n",
      "- Avoid overlapping sessions. If there is overlap, pick the session most relevant.\n",
      "- If a session accidentally does not relate to what the user is looking for, exclude it. \n",
      "- Make sure the sessions are sorted chronologically. \n",
      "- Format the planning using markdown. Make sure it is easy to read, has nice spacing, and looks professionally.\n",
      "- Only include session mentioned under \"Relevant talks\". Never make up sessions.\n",
      "\n",
      "Relevant talks:\n",
      "{\"author\": \"Hamel Husain, Stefan Krawczyk, Katrina Riehl, Juanita Gomez, Zander Matheson\", \"date\": \"Wednesday 2023-26-04 - 03:30 PM\", \"title\": \"Panel: “Building a Stronger Open Source Python Data Community: Trends, Gaps, and Collaborative Contributions”\", \"abstract_summary\": \"Expert on the field of software will share their stories in their journey of building a strong open source Python data community.\"}\n",
      "\n",
      "{\"author\": \"Katrina Riehl\", \"date\": \"Thursday 2023-27-04 - 09:00 AM\", \"title\": \"Keynote: Scientific Computing and the Gateway to Open Source\", \"abstract_summary\": \"This talk reviews how the NumFOCUS organization contributes to the support, sustainability, and diversity of a vibrant scientific open source community. It discusses the history of the scientific computing ecosystem and its intricately tied open source initiatives, and walks through where we've been, where we are going, and the lessons we've learned along the way.\"}\n",
      "\n",
      "{\"author\": \"Carl Kadie\", \"date\": \"Thursday 2023-27-04 - 10:15 AM\", \"title\": \"A Perfect, Infinite-Precision, Game Physics in Python\", \"abstract_summary\": \"This fun and visual talk shows how to create a perfect (but impractical) physics engine in Python using SymPy, a free package for computer algebra. The talk covers simulating 2-D Newtonian physics, solving math problems too hard for humans, the non-determinism of a billiards break, and thoughts on making the simulator more practical. This session is relevant for those interested in scientific computing and the limits of simulation and programming.\"}\n",
      "\n",
      "{\"author\": \"Krishi Sharma\", \"date\": \"Thursday 2023-27-04 - 10:15 AM\", \"title\": \"Plant a Touch-Me-Not: Train Models Without Anyone Touching Your Data with Flower\", \"abstract_summary\": \"This session discusses the challenges of leveraging multiple datasets in machine learning without breaching data privacy and security, particularly in medical and legal services. The speaker explores ways to train models without centralizing data in one place, using Flower technology.\"}\n",
      "\n",
      "{\"author\": \"Federico Garza Ramirez, Max Mergenthaler\", \"date\": \"Thursday 2023-27-04 - 10:15 AM\", \"title\": \"Quantifying Uncertainty in Time Series Forecasting with Conformal Prediction\", \"abstract_summary\": \"This talk will examine the use of conformal prediction in the context of time series analysis. The presentation will highlight the benefits of using conformal prediction to estimate uncertainty and demonstrate its application using open source python libraries for statistical, machine learning, and deep learning models (https://github.com/Nixtla).\" }\n",
      "\n",
      "What the user is looking for: I love sessions that relate to scientific computing\n",
      "\n",
      "Conference plan:\u001b[0m\n",
      "\n",
      "\u001b[1m> Finished chain.\u001b[0m\n",
      "\n",
      "\u001b[1m> Finished chain.\u001b[0m\n",
      "\n",
      "\u001b[1m> Finished chain.\u001b[0m\n"
     ]
    }
   ],
   "source": [
    "query = \"I love sessions that relate to scientific computing\"\n",
    "plan = get_conference_plan(query, docs, verbose = True)"
   ]
  },
  {
   "cell_type": "code",
   "execution_count": 55,
   "metadata": {},
   "outputs": [
    {
     "name": "stdout",
     "output_type": "stream",
     "text": [
      "## PyData Conference Plan\n",
      "\n",
      "### Thursday, April 27th\n",
      "\n",
      "- **9:00 AM - 10:00 AM** Keynote: Scientific Computing and the Gateway to Open Source  \n",
      "  *Speaker: Katrina Riehl*  \n",
      "  This talk reviews how the NumFOCUS organization contributes to the support, sustainability, and diversity of a vibrant scientific open source community.\n",
      "\n",
      "- **10:15 AM - 11:15 AM** A Perfect, Infinite-Precision, Game Physics in Python  \n",
      "  *Speaker: Carl Kadie*  \n",
      "  This fun and visual talk shows how to create a perfect (but impractical) physics engine in Python using SymPy, a free package for computer algebra. This session is relevant for those interested in scientific computing and the limits of simulation and programming.\n",
      "\n",
      "- **10:15 AM - 11:15 AM** Quantifying Uncertainty in Time Series Forecasting with Conformal Prediction  \n",
      "  *Speakers: Federico Garza Ramirez, Max Mergenthaler*  \n",
      "  This talk will examine the use of conformal prediction in the context of time series analysis. The presentation will highlight the benefits of using conformal prediction to estimate uncertainty and demonstrate its application using open source python libraries for statistical, machine learning, and deep learning models.\n",
      "\n",
      "- **10:15 AM - 11:15 AM** Plant a Touch-Me-Not: Train Models Without Anyone Touching Your Data with Flower  \n",
      "  *Speaker: Krishi Sharma*  \n",
      "  This session discusses the challenges of leveraging multiple datasets in machine learning without breaching data privacy and security, particularly in medical and legal services. The speaker explores ways to train models without centralizing data in one place, using Flower technology.\n"
     ]
    }
   ],
   "source": [
    "print(plan)"
   ]
  },
  {
   "cell_type": "code",
   "execution_count": 56,
   "metadata": {},
   "outputs": [
    {
     "data": {
      "text/markdown": [
       "## PyData Conference Plan\n",
       "\n",
       "### Thursday, April 27th\n",
       "\n",
       "- **9:00 AM - 10:00 AM** Keynote: Scientific Computing and the Gateway to Open Source  \n",
       "  *Speaker: Katrina Riehl*  \n",
       "  This talk reviews how the NumFOCUS organization contributes to the support, sustainability, and diversity of a vibrant scientific open source community.\n",
       "\n",
       "- **10:15 AM - 11:15 AM** A Perfect, Infinite-Precision, Game Physics in Python  \n",
       "  *Speaker: Carl Kadie*  \n",
       "  This fun and visual talk shows how to create a perfect (but impractical) physics engine in Python using SymPy, a free package for computer algebra. This session is relevant for those interested in scientific computing and the limits of simulation and programming.\n",
       "\n",
       "- **10:15 AM - 11:15 AM** Quantifying Uncertainty in Time Series Forecasting with Conformal Prediction  \n",
       "  *Speakers: Federico Garza Ramirez, Max Mergenthaler*  \n",
       "  This talk will examine the use of conformal prediction in the context of time series analysis. The presentation will highlight the benefits of using conformal prediction to estimate uncertainty and demonstrate its application using open source python libraries for statistical, machine learning, and deep learning models.\n",
       "\n",
       "- **10:15 AM - 11:15 AM** Plant a Touch-Me-Not: Train Models Without Anyone Touching Your Data with Flower  \n",
       "  *Speaker: Krishi Sharma*  \n",
       "  This session discusses the challenges of leveraging multiple datasets in machine learning without breaching data privacy and security, particularly in medical and legal services. The speaker explores ways to train models without centralizing data in one place, using Flower technology."
      ],
      "text/plain": [
       "<IPython.core.display.Markdown object>"
      ]
     },
     "metadata": {},
     "output_type": "display_data"
    }
   ],
   "source": [
    "mprint(plan)"
   ]
  },
  {
   "cell_type": "code",
   "execution_count": 57,
   "metadata": {},
   "outputs": [
    {
     "name": "stdout",
     "output_type": "stream",
     "text": [
      "\n",
      "----------------------------------------------------------------------------------------------------\n",
      "Order: 0\n",
      "----------------------------------------------------------------------------------------------------\n",
      "\n",
      "---Chat prompt:--- [{\"role\": \"user\", \"content\": \"You are an assistant that helps the user plan their PyData visit. Below are the tasks relevant to the users request. Here are your task requirements:\n",
      "- Convert the list into a conference plan split out by day.\n",
      "- Include a brief one-sentence summary for each recommendation. \n",
      "- Always also include the title, date, and speakers. \n",
      "- Avoid overlapping sessions. If there is overlap, pick the session most relevant.\n",
      "- If a session accidentally does not relate to what the user is looking for, exclude it. \n",
      "- Make sure the sessions are sorted chronologically. \n",
      "- Format the planning using markdown. Make sure it is easy to read, has nice spacing, and looks professionally.\n",
      "- Only include session mentioned under \"Relevant talks\". Never make up sessions.\n",
      "\n",
      "Relevant talks:\n",
      "{\"author\": \"Hamel Husain, Stefan Krawczyk, Katrina Riehl, Juanita Gomez, Zander Matheson\", \"date\": \"Wednesday 2023-26-04 - 03:30 PM\", \"title\": \"Panel: \\u201cBuilding a Stronger Open Source Python Data Community: Trends, Gaps, and Collaborative Contributions\\u201d\", \"abstract_summary\": \"Expert on the field of software will share their stories in their journey of building a strong open source Python data community.\"}\n",
      "\n",
      "{\"author\": \"Katrina Riehl\", \"date\": \"Thursday 2023-27-04 - 09:00 AM\", \"title\": \"Keynote: Scientific Computing and the Gateway to Open Source\", \"abstract_summary\": \"This talk reviews how the NumFOCUS organization contributes to the support, sustainability, and diversity of a vibrant scientific open source community. It discusses the history of the scientific computing ecosystem and its intricately tied open source initiatives, and walks through where we\\'ve been, where we are going, and the lessons we\\'ve learned along the way.\"}\n",
      "\n",
      "{\"author\": \"Carl Kadie\", \"date\": \"Thursday 2023-27-04 - 10:15 AM\", \"title\": \"A Perfect, Infinite-Precision, Game Physics in Python\", \"abstract_summary\": \"This fun and visual talk shows how to create a perfect (but impractical) physics engine in Python using SymPy, a free package for computer algebra. The talk covers simulating 2-D Newtonian physics, solving math problems too hard for humans, the non-determinism of a billiards break, and thoughts on making the simulator more practical. This session is relevant for those interested in scientific computing and the limits of simulation and programming.\"}\n",
      "\n",
      "{\"author\": \"Krishi Sharma\", \"date\": \"Thursday 2023-27-04 - 10:15 AM\", \"title\": \"Plant a Touch-Me-Not: Train Models Without Anyone Touching Your Data with Flower\", \"abstract_summary\": \"This session discusses the challenges of leveraging multiple datasets in machine learning without breaching data privacy and security, particularly in medical and legal services. The speaker explores ways to train models without centralizing data in one place, using Flower technology.\"}\n",
      "\n",
      "{\"author\": \"Federico Garza Ramirez, Max Mergenthaler\", \"date\": \"Thursday 2023-27-04 - 10:15 AM\", \"title\": \"Quantifying Uncertainty in Time Series Forecasting with Conformal Prediction\", \"abstract_summary\": \"This talk will examine the use of conformal prediction in the context of time series analysis. The presentation will highlight the benefits of using conformal prediction to estimate uncertainty and demonstrate its application using open source python libraries for statistical, machine learning, and deep learning models (https://github.com/Nixtla).\" }\n",
      "\n",
      "What the user is looking for: I love sessions that relate to scientific computing\n",
      "\n",
      "Conference plan:\"}]\n",
      "\n",
      "----------------------------------------------------------------------------------------------------\n",
      "Order: 1\n",
      "----------------------------------------------------------------------------------------------------\n",
      "\n",
      "---Chat prompt:--- [{\"role\": \"user\", \"content\": \"Check if the following session is relevant for what the user is looking for. \n",
      "If it is relevant, summarize the abstract and return using the following JSON format = {\"author\" .. , \"date\" : .., \"title\" : .. \"abstract_summary\" ..}.\n",
      "If not relevant, return \"\".\n",
      "Title: Quantifying Uncertainty in Time Series Forecasting with Conformal Prediction\n",
      "Speakers: Federico Garza Ramirez, Max Mergenthaler\n",
      "Start: Thursday 2023-27-04 - 10:15 AM\n",
      "Abstract:\n",
      "This talk will examine the use of conformal prediction in the context of time series analysis. The presentation will highlight the benefits of using conformal prediction to estimate uncertainty and demonstrate its application using open source python libraries for statistical, machine learning, and deep learning models (https://github.com/Nixtla).\n",
      "User request: I love sessions that relate to scientific computing\n",
      "JSON =\"}]\n",
      "\n",
      "----------------------------------------------------------------------------------------------------\n",
      "Order: 2\n",
      "----------------------------------------------------------------------------------------------------\n",
      "\n",
      "---Chat prompt:--- [{\"role\": \"user\", \"content\": \"Check if the following session is relevant for what the user is looking for. \n",
      "If it is relevant, summarize the abstract and return using the following JSON format = {\"author\" .. , \"date\" : .., \"title\" : .. \"abstract_summary\" ..}.\n",
      "If not relevant, return \"\".\n",
      "Title: Plant a Touch-Me-Not: Train Models Without Anyone Touching Your Data with Flower\n",
      "Speakers: Krishi Sharma\n",
      "Start: Thursday 2023-27-04 - 10:15 AM\n",
      "Abstract:\n",
      "In the world of machine learning, more data and diverse data sets usually leads to better training, particularly with human centered products such as self-driving cars, IOT devices and medical applications. However, privacy and ethical concerns can make it difficult to effectively leverage many different datasets, particularly in medical and legal services. How can a data scientist or machine learning engineer leverage multiple data sources to train a model without centralizing the data in one place? How can one benefit from multiple datasets without the hassle of breaching data privacy and security?\n",
      "User request: I love sessions that relate to scientific computing\n",
      "JSON =\"}]\n",
      "\n",
      "----------------------------------------------------------------------------------------------------\n",
      "Order: 3\n",
      "----------------------------------------------------------------------------------------------------\n",
      "\n",
      "---Chat prompt:--- [{\"role\": \"user\", \"content\": \"Check if the following session is relevant for what the user is looking for. \n",
      "If it is relevant, summarize the abstract and return using the following JSON format = {\"author\" .. , \"date\" : .., \"title\" : .. \"abstract_summary\" ..}.\n",
      "If not relevant, return \"\".\n",
      "Title: A Perfect, Infinite-Precision, Game Physics in Python\n",
      "Speakers: Carl Kadie\n",
      "Start: Thursday 2023-27-04 - 10:15 AM\n",
      "Abstract:\n",
      "This fun and visual talk shows how to create a perfect (but impractical) physics engine in Python. The key is Python\\u2019s SymPy, a free package for computer algebra. The physics engine turns parts of physics, mathematics, and even philosophy into Python programming. We\\u2019ll learn about: * Simulating 2-D Newtonian physics such as Newton\\u2019s Cradle and the two-ball drop * Having the computer solve math problems too hard for us to personally solve * The surprising (even to physicists) non-determinism of a billiards break * Thoughts on making the simulator more practical If you are an enthusiast interested in what Python can do in other fields, or an expert interested in the limits of simulation and programming, this talk is for you!\n",
      "User request: I love sessions that relate to scientific computing\n",
      "JSON =\"}]\n",
      "\n",
      "----------------------------------------------------------------------------------------------------\n",
      "Order: 4\n",
      "----------------------------------------------------------------------------------------------------\n",
      "\n",
      "---Chat prompt:--- [{\"role\": \"user\", \"content\": \"Check if the following session is relevant for what the user is looking for. \n",
      "If it is relevant, summarize the abstract and return using the following JSON format = {\"author\" .. , \"date\" : .., \"title\" : .. \"abstract_summary\" ..}.\n",
      "If not relevant, return \"\".\n",
      "Title: Keynote: Scientific Computing and the Gateway to Open Source\n",
      "Speakers: Katrina Riehl\n",
      "Start: Thursday 2023-27-04 - 09:00 AM\n",
      "Abstract:\n",
      "Over the last decade, we have seen innumerable advancements in the scientific community due to the shift toward collaborative, open science. We\\'ve learned, as a community, we must work together in order to build the next generation of scientific innovation. The history of the scientific computing ecosystem is intricately tied to its open source initiatives. One cannot succeed without the other. In this talk, we\\'ll review how the NumFOCUS organization contributes to the support, sustainability, and diversity of a vibrant scientific open source community. We will walk you through where we\\'ve been, where we are going, and the lessons we\\'ve learned along the way.\n",
      "User request: I love sessions that relate to scientific computing\n",
      "JSON =\"}]\n",
      "\n",
      "----------------------------------------------------------------------------------------------------\n",
      "Order: 5\n",
      "----------------------------------------------------------------------------------------------------\n",
      "\n",
      "---Chat prompt:--- [{\"role\": \"user\", \"content\": \"Check if the following session is relevant for what the user is looking for. \n",
      "If it is relevant, summarize the abstract and return using the following JSON format = {\"author\" .. , \"date\" : .., \"title\" : .. \"abstract_summary\" ..}.\n",
      "If not relevant, return \"\".\n",
      "Title: Panel: \\u201cBuilding a Stronger Open Source Python Data Community: Trends, Gaps, and Collaborative Contributions\\u201d\n",
      "Speakers: Hamel Husain, Stefan Krawczyk, Katrina Riehl, Juanita Gomez, Zander Matheson\n",
      "Start: Wednesday 2023-26-04 - 03:30 PM\n",
      "Abstract:\n",
      "Expert on the field of software will share their stories in their journey of building a strong open source Python data community.\n",
      "User request: I love sessions that relate to scientific computing\n",
      "JSON =\"}]\n"
     ]
    }
   ],
   "source": [
    "#print_recent_requests(20)"
   ]
  },
  {
   "cell_type": "markdown",
   "metadata": {},
   "source": [
    "-----\n",
    "# Example #4 - LangChain - PyData session recommender with a vector lookup\n",
    "---\n",
    "\n",
    "Source documents:\n",
    "- https://python.langchain.com/en/latest/modules/chains/index_examples/question_answering.html"
   ]
  },
  {
   "cell_type": "markdown",
   "metadata": {},
   "source": [
    "### Imports"
   ]
  },
  {
   "cell_type": "code",
   "execution_count": 58,
   "metadata": {},
   "outputs": [],
   "source": [
    "from langchain.llms.openai import OpenAI\n",
    "from langchain.chat_models import ChatOpenAI\n",
    "from langchain.embeddings.openai import OpenAIEmbeddings\n",
    "from langchain.vectorstores import Chroma\n",
    "from langchain.embeddings import OpenAIEmbeddings\n",
    "from langchain.chains.question_answering import load_qa_chain"
   ]
  },
  {
   "cell_type": "markdown",
   "metadata": {},
   "source": [
    "### Data"
   ]
  },
  {
   "cell_type": "code",
   "execution_count": 59,
   "metadata": {},
   "outputs": [
    {
     "data": {
      "text/html": [
       "<div>\n",
       "<style scoped>\n",
       "    .dataframe tbody tr th:only-of-type {\n",
       "        vertical-align: middle;\n",
       "    }\n",
       "\n",
       "    .dataframe tbody tr th {\n",
       "        vertical-align: top;\n",
       "    }\n",
       "\n",
       "    .dataframe thead th {\n",
       "        text-align: right;\n",
       "    }\n",
       "</style>\n",
       "<table border=\"1\" class=\"dataframe\">\n",
       "  <thead>\n",
       "    <tr style=\"text-align: right;\">\n",
       "      <th></th>\n",
       "      <th>title</th>\n",
       "      <th>abstract</th>\n",
       "      <th>start_datetime</th>\n",
       "      <th>speakers</th>\n",
       "      <th>full_text</th>\n",
       "    </tr>\n",
       "  </thead>\n",
       "  <tbody>\n",
       "    <tr>\n",
       "      <th>28</th>\n",
       "      <td>Scaling Altair visualizations with VegaFusion</td>\n",
       "      <td>Altair is a popular Python visualization libra...</td>\n",
       "      <td>Thursday 2023-27-04 - 11:45 AM</td>\n",
       "      <td>Jon Mease</td>\n",
       "      <td>Title: Scaling Altair visualizations with Vega...</td>\n",
       "    </tr>\n",
       "    <tr>\n",
       "      <th>51</th>\n",
       "      <td>Scaling MLOps to support dozens of analytics t...</td>\n",
       "      <td>In this talk, we will present best practices a...</td>\n",
       "      <td>Friday 2023-28-04 - 11:45 AM</td>\n",
       "      <td>Ilya Katsov</td>\n",
       "      <td>Title: Scaling MLOps to support dozens of anal...</td>\n",
       "    </tr>\n",
       "    <tr>\n",
       "      <th>24</th>\n",
       "      <td>Shiny: Data-centric web applications in Python</td>\n",
       "      <td>Shiny is a web framework that is designed to l...</td>\n",
       "      <td>Thursday 2023-27-04 - 11:00 AM</td>\n",
       "      <td>Joe Cheng</td>\n",
       "      <td>Title: Shiny: Data-centric web applications in...</td>\n",
       "    </tr>\n",
       "    <tr>\n",
       "      <th>25</th>\n",
       "      <td>Experimentation and the gold standard of data ...</td>\n",
       "      <td>We will discuss industry best practices for le...</td>\n",
       "      <td>Thursday 2023-27-04 - 11:45 AM</td>\n",
       "      <td>Timothy Chan, PhD</td>\n",
       "      <td>Title: Experimentation and the gold standard o...</td>\n",
       "    </tr>\n",
       "    <tr>\n",
       "      <th>34</th>\n",
       "      <td>Computer Vision Landscape at Chegg: Present an...</td>\n",
       "      <td>Millions of people all around the world Learn ...</td>\n",
       "      <td>Thursday 2023-27-04 - 03:30 PM</td>\n",
       "      <td>Sanghamitra Deb</td>\n",
       "      <td>Title: Computer Vision Landscape at Chegg: Pre...</td>\n",
       "    </tr>\n",
       "  </tbody>\n",
       "</table>\n",
       "</div>"
      ],
      "text/plain": [
       "                                                title   \n",
       "28      Scaling Altair visualizations with VegaFusion  \\\n",
       "51  Scaling MLOps to support dozens of analytics t...   \n",
       "24     Shiny: Data-centric web applications in Python   \n",
       "25  Experimentation and the gold standard of data ...   \n",
       "34  Computer Vision Landscape at Chegg: Present an...   \n",
       "\n",
       "                                             abstract   \n",
       "28  Altair is a popular Python visualization libra...  \\\n",
       "51  In this talk, we will present best practices a...   \n",
       "24  Shiny is a web framework that is designed to l...   \n",
       "25  We will discuss industry best practices for le...   \n",
       "34  Millions of people all around the world Learn ...   \n",
       "\n",
       "                    start_datetime           speakers   \n",
       "28  Thursday 2023-27-04 - 11:45 AM          Jon Mease  \\\n",
       "51    Friday 2023-28-04 - 11:45 AM        Ilya Katsov   \n",
       "24  Thursday 2023-27-04 - 11:00 AM          Joe Cheng   \n",
       "25  Thursday 2023-27-04 - 11:45 AM  Timothy Chan, PhD   \n",
       "34  Thursday 2023-27-04 - 03:30 PM    Sanghamitra Deb   \n",
       "\n",
       "                                            full_text  \n",
       "28  Title: Scaling Altair visualizations with Vega...  \n",
       "51  Title: Scaling MLOps to support dozens of anal...  \n",
       "24  Title: Shiny: Data-centric web applications in...  \n",
       "25  Title: Experimentation and the gold standard o...  \n",
       "34  Title: Computer Vision Landscape at Chegg: Pre...  "
      ]
     },
     "execution_count": 59,
     "metadata": {},
     "output_type": "execute_result"
    }
   ],
   "source": [
    "talk_df.sample(5)"
   ]
  },
  {
   "cell_type": "markdown",
   "metadata": {},
   "source": [
    "### Preparation steps"
   ]
  },
  {
   "cell_type": "markdown",
   "metadata": {},
   "source": [
    "##### Initialize the OpenAI models"
   ]
  },
  {
   "cell_type": "markdown",
   "metadata": {},
   "source": [
    "In order to look up related talks we can use a vector similarity search:"
   ]
  },
  {
   "cell_type": "code",
   "execution_count": 60,
   "metadata": {},
   "outputs": [],
   "source": [
    "embeddings = OpenAIEmbeddings(\n",
    "    model = 'text-embedding-ada-002'\n",
    ")"
   ]
  },
  {
   "cell_type": "markdown",
   "metadata": {},
   "source": [
    "To create the final plan, we will use the ChatGPT api or the GPT-3 Davinci api:"
   ]
  },
  {
   "cell_type": "code",
   "execution_count": 61,
   "metadata": {},
   "outputs": [],
   "source": [
    "chatModel = ChatOpenAI(\n",
    "    model_name = 'gpt-3.5-turbo',\n",
    "    temperature=0, \n",
    "    max_tokens = 1024\n",
    ")"
   ]
  },
  {
   "cell_type": "markdown",
   "metadata": {},
   "source": [
    "##### Let's prepare our input documents"
   ]
  },
  {
   "cell_type": "code",
   "execution_count": 62,
   "metadata": {},
   "outputs": [],
   "source": [
    "texts, metadatas = [], []\n",
    "for i, row in talk_df.iterrows():\n",
    "    texts.append(row[\"full_text\"])\n",
    "    metadatas.append({\"source\" : i})"
   ]
  },
  {
   "cell_type": "markdown",
   "metadata": {},
   "source": [
    "## Find relevant events\n",
    "\n",
    "Instead of making calls to the LLM to identify relevant talks, we can instead simply do a vector similarity search and identify relevant talks that way.\n",
    "\n",
    "This is much quicker, cheaper, and more scaleable. "
   ]
  },
  {
   "cell_type": "markdown",
   "metadata": {},
   "source": [
    "##### Get the embeddings and store them in our Chroma vector database\n",
    "\n",
    "Want to learn more about ChromaDB? --> https://www.trychroma.com/"
   ]
  },
  {
   "cell_type": "code",
   "execution_count": 63,
   "metadata": {},
   "outputs": [],
   "source": [
    "docsearch = Chroma.from_texts(texts, embeddings, metadatas=metadatas).as_retriever()"
   ]
  },
  {
   "cell_type": "markdown",
   "metadata": {},
   "source": [
    "##### Design our prompt to convert the relevant sessions into a brief conference plan:"
   ]
  },
  {
   "cell_type": "code",
   "execution_count": 64,
   "metadata": {},
   "outputs": [],
   "source": [
    "prompt_template = \"\"\"You are an assistant that helps the user plan their PyData visit. Below are the tasks relevant to the users request. Here are your task requirements:\n",
    "- Convert the list into a conference plan split out by day.\n",
    "- Include a brief 2-sentence summary for each recommendation. \n",
    "- Always also include the title, date, and speakers. \n",
    "- Avoid overlapping sessions. If there is overlap, pick the session most relevant.\n",
    "- If a session accidentally does not relate to what the user is looking for, exclude it. \n",
    "- Make sure the sessions are sorted chronologically. \n",
    "- Format the planning using markdown. Make sure it is easy to read, has nice spacing, and looks professionally.\n",
    "\n",
    "Relevant talks:\n",
    "{context}\n",
    "\n",
    "What the user is looking for: {question}\n",
    "\n",
    "Conference plan:\"\"\"\n",
    "PROMPT = PromptTemplate(\n",
    "    template=prompt_template, input_variables=[\"context\", \"question\"]\n",
    ")"
   ]
  },
  {
   "cell_type": "markdown",
   "metadata": {},
   "source": [
    "##### Create function to run it all"
   ]
  },
  {
   "cell_type": "code",
   "execution_count": 65,
   "metadata": {},
   "outputs": [],
   "source": [
    "def get_conference_plan(query, docsearch = docsearch, verbose = False, model = chatModel):\n",
    "    chain = load_qa_chain(model, chain_type=\"stuff\", prompt=PROMPT, verbose = verbose)\n",
    "\n",
    "    docs = docsearch.get_relevant_documents(query)\n",
    "    result = chain({\n",
    "        \"input_documents\" : docs, \n",
    "        \"question\": query\n",
    "    }, return_only_outputs=True)\n",
    "    \n",
    "    return result[\"output_text\"]"
   ]
  },
  {
   "cell_type": "markdown",
   "metadata": {},
   "source": [
    "##### Create a conference plan based on a user query:"
   ]
  },
  {
   "cell_type": "code",
   "execution_count": 66,
   "metadata": {},
   "outputs": [],
   "source": [
    "#clear_log_file()"
   ]
  },
  {
   "cell_type": "code",
   "execution_count": 67,
   "metadata": {},
   "outputs": [],
   "source": [
    "query = \"I love sessions that relate to Pandas or geospatial data.\"\n",
    "plan = get_conference_plan(query, verbose = False)"
   ]
  },
  {
   "cell_type": "code",
   "execution_count": 68,
   "metadata": {},
   "outputs": [
    {
     "name": "stdout",
     "output_type": "stream",
     "text": [
      "## PyData Conference Plan\n",
      "\n",
      "### Wednesday 2023-26-04\n",
      "- **Title: Introduction to Working with U.S. Census Data in Python**\n",
      "  - Speaker: Darren Vengroff\n",
      "  - Start: 01:30 PM\n",
      "  - Summary: This tutorial will demonstrate how open-source Python tools can be used to discover, download, analyze, and generate maps of U.S. Census data. Attendees will learn to download demographic and economic indicators at levels ranging from the entire nation to individual neighborhoods and plot the data on maps.\n",
      "\n",
      "### Thursday 2023-27-04\n",
      "- **Title: Data Mapping for Data Exploration**\n",
      "  - Speaker: Leland McInnes\n",
      "  - Start: 11:45 AM\n",
      "  - Summary: This session will explore interactive data maps as a tool for exploratory data analysis, using 2D map style representations of the data, combined with rich interactivity that can link back to the source data.\n",
      "\n",
      "### Friday 2023-28-04\n",
      "- **Title: Scaling data workloads using the best of both worlds: pandas and Spark**\n",
      "  - Speakers: Chengyin Eng, Hyukjin Kwon\n",
      "  - Start: 10:15 AM\n",
      "  - Summary: This talk will equip data analysts and scientists with the knowledge of scaling their data analysis workloads with implementation details and best practice guidance, using pandas API on Spark to transition from single-node to distributed environment. Working knowledge of pandas, basic Spark, and machine learning is helpful.\n",
      "\n",
      "- **Title: Fugue: Porting Existing Python and Pandas Code to Spark, Dask, and Ray**\n",
      "  - Speakers: Kevin Kho, Anthony Holten\n",
      "  - Start: 02:00 PM\n",
      "  - Summary: This tutorial will show how to port existing Pandas code to distributed backend with minimal rewrites, using Fugue. It will cover some scenarios where the Pandas interface can't scale.\n"
     ]
    }
   ],
   "source": [
    "print(plan)"
   ]
  },
  {
   "cell_type": "code",
   "execution_count": 69,
   "metadata": {},
   "outputs": [
    {
     "data": {
      "text/markdown": [
       "## PyData Conference Plan\n",
       "\n",
       "### Wednesday 2023-26-04\n",
       "- **Title: Introduction to Working with U.S. Census Data in Python**\n",
       "  - Speaker: Darren Vengroff\n",
       "  - Start: 01:30 PM\n",
       "  - Summary: This tutorial will demonstrate how open-source Python tools can be used to discover, download, analyze, and generate maps of U.S. Census data. Attendees will learn to download demographic and economic indicators at levels ranging from the entire nation to individual neighborhoods and plot the data on maps.\n",
       "\n",
       "### Thursday 2023-27-04\n",
       "- **Title: Data Mapping for Data Exploration**\n",
       "  - Speaker: Leland McInnes\n",
       "  - Start: 11:45 AM\n",
       "  - Summary: This session will explore interactive data maps as a tool for exploratory data analysis, using 2D map style representations of the data, combined with rich interactivity that can link back to the source data.\n",
       "\n",
       "### Friday 2023-28-04\n",
       "- **Title: Scaling data workloads using the best of both worlds: pandas and Spark**\n",
       "  - Speakers: Chengyin Eng, Hyukjin Kwon\n",
       "  - Start: 10:15 AM\n",
       "  - Summary: This talk will equip data analysts and scientists with the knowledge of scaling their data analysis workloads with implementation details and best practice guidance, using pandas API on Spark to transition from single-node to distributed environment. Working knowledge of pandas, basic Spark, and machine learning is helpful.\n",
       "\n",
       "- **Title: Fugue: Porting Existing Python and Pandas Code to Spark, Dask, and Ray**\n",
       "  - Speakers: Kevin Kho, Anthony Holten\n",
       "  - Start: 02:00 PM\n",
       "  - Summary: This tutorial will show how to port existing Pandas code to distributed backend with minimal rewrites, using Fugue. It will cover some scenarios where the Pandas interface can't scale."
      ],
      "text/plain": [
       "<IPython.core.display.Markdown object>"
      ]
     },
     "metadata": {},
     "output_type": "display_data"
    }
   ],
   "source": [
    "mprint(plan)"
   ]
  },
  {
   "cell_type": "code",
   "execution_count": 70,
   "metadata": {},
   "outputs": [
    {
     "name": "stdout",
     "output_type": "stream",
     "text": [
      "\n",
      "----------------------------------------------------------------------------------------------------\n",
      "Order: 0\n",
      "----------------------------------------------------------------------------------------------------\n",
      "\n",
      "---Chat prompt:--- [{\"role\": \"user\", \"content\": \"You are an assistant that helps the user plan their PyData visit. Below are the tasks relevant to the users request. Here are your task requirements:\n",
      "- Convert the list into a conference plan split out by day.\n",
      "- Include a brief 2-sentence summary for each recommendation. \n",
      "- Always also include the title, date, and speakers. \n",
      "- Avoid overlapping sessions. If there is overlap, pick the session most relevant.\n",
      "- If a session accidentally does not relate to what the user is looking for, exclude it. \n",
      "- Make sure the sessions are sorted chronologically. \n",
      "- Format the planning using markdown. Make sure it is easy to read, has nice spacing, and looks professionally.\n",
      "\n",
      "Relevant talks:\n",
      "Title: Data Mapping for Data Exploration\n",
      "Speakers: Leland McInnes\n",
      "Start: Thursday 2023-27-04 - 11:45 AM\n",
      "Abstract:\n",
      "As embeddings and and vector databases become ever more popular we need to develop new tools for exploratory data analysis. One such approach is interactive data maps -- using 2D map style representations of the data, combined with rich interactivity that can link back to the source data. We\\'ll look at the open source tools available for building interactive data maps, and work through an example use case.\n",
      "\n",
      "Title: Scaling data workloads using the best of both worlds: pandas and Spark\n",
      "Speakers: Chengyin Eng, Hyukjin Kwon\n",
      "Start: Friday 2023-28-04 - 10:15 AM\n",
      "Abstract:\n",
      "It is indisputable that pandas is oftentimes the keystone element in any data wrangling and analysis workloads. However, the challenge is that pandas is not meant for big data processing. This presents data practitioners a dilemma: should we downsample data and lose information? Or should we explore a distributed processing framework to scale out data workloads? An example of a mainstream distributed processing tool is Apache Spark. However, this means data practitioners now have to learn a new language, PySpark. Not all is bleak though: pandas API on Spark provides pandas equivalent APIs in PySpark. It allows pandas users to transition from single-node to distributed environment, by just simply swapping the pandas package with pyspark.pandas. On the other hand, existing PySpark users may wish to write their own custom user-defined functions (UDFs) that are not included in existing PySpark API. Pandas Function APIs, newly included in Spark 3.0+, allow users to apply arbitrary Python native functions, with pandas instances as the input and output against a PySpark dataframe. For instance, data scientists could use pandas function API to train a ML model based on each group of data using a single line of code. Co-presented by both a top open-source Apache Spark commiter and a hands-on data science consultant, this talk equips data analysts and scientists with the knowledge of scaling their data analysis workloads with implementation details and best practice guidance. Working knowledge of pandas, basic Spark, and machine learning is helpful.\n",
      "\n",
      "Title: Fugue: Porting Existing Python and Pandas Code to Spark, Dask, and Ray\n",
      "Speakers: Kevin Kho, Anthony Holten\n",
      "Start: Wednesday 2023-26-04 - 11:00 AM\n",
      "Abstract:\n",
      "When Pandas starts to become a bottleneck for data workloads, data practitioners seek out distributed computing frameworks such as Spark, Dask, and Ray. The problem is porting over existing code would take a lot of rewrites. Though drop-in replacements exist where you can just change the import statement, the resulting code is still attached to the Pandas interface, which is not a good grammar for a lot of distributed computing problems. In this tutorial, we will go over some scenarios where the Pandas interface can\\'t scale, and we\\'ll show how to port the existing code to distributed backend with minimal rewrites.\n",
      "\n",
      "Title: Introduction to Working with U.S. Census Data in Python\n",
      "Speakers: Darren Vengroff\n",
      "Start: Wednesday 2023-26-04 - 01:30 PM\n",
      "Abstract:\n",
      "[The United States Census Bureau](https://www.census.gov/) publishes over 1,300 data sets via its APIs. These are useful across a myriad of fields including data journalism, allocation of public and private resources, data activism, marketing and strategic planning across many sectors. In this tutorial, which is targeted at both beginners and those with some experience with census data, we will demonstrate how open-source Python tools can be used to discover, download, analyze, and generate maps of U.S. Census data. This tutorial will consider the full breadth and richness of data available from the U.S. Census. We will cover not only American Community Survey (ACS) and similarly well-known data sets, but also a number of data sets that are less well-know but nonetheless useful in a variety of research contexts. Through a series of hands-on demonstrations, attendees will learn to - discover data sets, some with a handful of variables and others with tens of thousands; - download demographic and economic indicators at levels ranging from the entire nation to individual neighborhoods; - plot the data we downloaded on maps; All Python tooling used in the workshop is available as open-source software. Final versions of the notebooks used in the tutorial will also be made available via open-source.\n",
      "\n",
      "What the user is looking for: I love sessions that relate to Pandas or geospatial data.\n",
      "\n",
      "Conference plan:\"}]\n"
     ]
    }
   ],
   "source": [
    "#print_recent_requests(5)"
   ]
  },
  {
   "cell_type": "markdown",
   "metadata": {},
   "source": [
    "-----\n",
    "# Example #5 - LangChain - DataFrame analyzer using an \"agent\"\n",
    "-----\n",
    "\n",
    "<span style=\"display: inline-block; background-color: #E53935; color: white; font-size: 1.2rem; font-weight: bold; padding: 8px 16px; border-radius: 4px; box-shadow: 0px 2px 4px rgba(0, 0, 0, 0.25); text-align:center;\">This function will allow the GLLM to execute code directly into the Python kernel. <br>Use with caution!</span>\n",
    "\n",
    "Source documents:\n",
    "- https://python.langchain.com/en/latest/modules/agents/toolkits/examples/pandas.html"
   ]
  },
  {
   "cell_type": "markdown",
   "metadata": {},
   "source": [
    "### Imports"
   ]
  },
  {
   "cell_type": "code",
   "execution_count": 71,
   "metadata": {},
   "outputs": [],
   "source": [
    "from langchain.agents import create_pandas_dataframe_agent\n",
    "from langchain.chat_models import ChatOpenAI"
   ]
  },
  {
   "cell_type": "markdown",
   "metadata": {},
   "source": [
    "### Data"
   ]
  },
  {
   "cell_type": "code",
   "execution_count": 72,
   "metadata": {},
   "outputs": [
    {
     "data": {
      "text/html": [
       "<div>\n",
       "<style scoped>\n",
       "    .dataframe tbody tr th:only-of-type {\n",
       "        vertical-align: middle;\n",
       "    }\n",
       "\n",
       "    .dataframe tbody tr th {\n",
       "        vertical-align: top;\n",
       "    }\n",
       "\n",
       "    .dataframe thead th {\n",
       "        text-align: right;\n",
       "    }\n",
       "</style>\n",
       "<table border=\"1\" class=\"dataframe\">\n",
       "  <thead>\n",
       "    <tr style=\"text-align: right;\">\n",
       "      <th></th>\n",
       "      <th>0</th>\n",
       "      <th>1</th>\n",
       "      <th>2</th>\n",
       "      <th>3</th>\n",
       "    </tr>\n",
       "  </thead>\n",
       "  <tbody>\n",
       "    <tr>\n",
       "      <th>Global Company Key</th>\n",
       "      <td>1690</td>\n",
       "      <td>1690</td>\n",
       "      <td>1690</td>\n",
       "      <td>1690</td>\n",
       "    </tr>\n",
       "    <tr>\n",
       "      <th>Data Date</th>\n",
       "      <td>2010-09-30 00:00:00</td>\n",
       "      <td>2011-09-30 00:00:00</td>\n",
       "      <td>2012-09-30 00:00:00</td>\n",
       "      <td>2013-09-30 00:00:00</td>\n",
       "    </tr>\n",
       "    <tr>\n",
       "      <th>Data Year - Fiscal</th>\n",
       "      <td>2010</td>\n",
       "      <td>2011</td>\n",
       "      <td>2012</td>\n",
       "      <td>2013</td>\n",
       "    </tr>\n",
       "    <tr>\n",
       "      <th>Industry Format</th>\n",
       "      <td>INDL</td>\n",
       "      <td>INDL</td>\n",
       "      <td>INDL</td>\n",
       "      <td>INDL</td>\n",
       "    </tr>\n",
       "    <tr>\n",
       "      <th>Level of Consolidation - Company Annual Descriptor</th>\n",
       "      <td>C</td>\n",
       "      <td>C</td>\n",
       "      <td>C</td>\n",
       "      <td>C</td>\n",
       "    </tr>\n",
       "    <tr>\n",
       "      <th>Population Source</th>\n",
       "      <td>D</td>\n",
       "      <td>D</td>\n",
       "      <td>D</td>\n",
       "      <td>D</td>\n",
       "    </tr>\n",
       "    <tr>\n",
       "      <th>Data Format</th>\n",
       "      <td>STD</td>\n",
       "      <td>STD</td>\n",
       "      <td>STD</td>\n",
       "      <td>STD</td>\n",
       "    </tr>\n",
       "    <tr>\n",
       "      <th>Ticker Symbol</th>\n",
       "      <td>AAPL</td>\n",
       "      <td>AAPL</td>\n",
       "      <td>AAPL</td>\n",
       "      <td>AAPL</td>\n",
       "    </tr>\n",
       "    <tr>\n",
       "      <th>Company Name</th>\n",
       "      <td>APPLE INC</td>\n",
       "      <td>APPLE INC</td>\n",
       "      <td>APPLE INC</td>\n",
       "      <td>APPLE INC</td>\n",
       "    </tr>\n",
       "    <tr>\n",
       "      <th>ISO Currency Code</th>\n",
       "      <td>USD</td>\n",
       "      <td>USD</td>\n",
       "      <td>USD</td>\n",
       "      <td>USD</td>\n",
       "    </tr>\n",
       "    <tr>\n",
       "      <th>Actual Period End date</th>\n",
       "      <td>2010-09-25 00:00:00</td>\n",
       "      <td>2011-09-24 00:00:00</td>\n",
       "      <td>2012-09-29 00:00:00</td>\n",
       "      <td>2013-09-28 00:00:00</td>\n",
       "    </tr>\n",
       "    <tr>\n",
       "      <th>Final Date</th>\n",
       "      <td>2010-11-01 00:00:00</td>\n",
       "      <td>2011-10-31 00:00:00</td>\n",
       "      <td>2012-11-02 00:00:00</td>\n",
       "      <td>2013-10-31 00:00:00</td>\n",
       "    </tr>\n",
       "    <tr>\n",
       "      <th>Assets - Total</th>\n",
       "      <td>75183.0</td>\n",
       "      <td>116371.0</td>\n",
       "      <td>176064.0</td>\n",
       "      <td>207000.0</td>\n",
       "    </tr>\n",
       "    <tr>\n",
       "      <th>Cash</th>\n",
       "      <td>11261.0</td>\n",
       "      <td>9815.0</td>\n",
       "      <td>10746.0</td>\n",
       "      <td>14259.0</td>\n",
       "    </tr>\n",
       "    <tr>\n",
       "      <th>CIK Number</th>\n",
       "      <td>320193</td>\n",
       "      <td>320193</td>\n",
       "      <td>320193</td>\n",
       "      <td>320193</td>\n",
       "    </tr>\n",
       "    <tr>\n",
       "      <th>Active/Inactive Status Marker</th>\n",
       "      <td>A</td>\n",
       "      <td>A</td>\n",
       "      <td>A</td>\n",
       "      <td>A</td>\n",
       "    </tr>\n",
       "    <tr>\n",
       "      <th>City</th>\n",
       "      <td>Cupertino</td>\n",
       "      <td>Cupertino</td>\n",
       "      <td>Cupertino</td>\n",
       "      <td>Cupertino</td>\n",
       "    </tr>\n",
       "  </tbody>\n",
       "</table>\n",
       "</div>"
      ],
      "text/plain": [
       "                                                                      0   \n",
       "Global Company Key                                                 1690  \\\n",
       "Data Date                                           2010-09-30 00:00:00   \n",
       "Data Year - Fiscal                                                 2010   \n",
       "Industry Format                                                    INDL   \n",
       "Level of Consolidation - Company Annual Descriptor                    C   \n",
       "Population Source                                                     D   \n",
       "Data Format                                                         STD   \n",
       "Ticker Symbol                                                      AAPL   \n",
       "Company Name                                                  APPLE INC   \n",
       "ISO Currency Code                                                   USD   \n",
       "Actual Period End date                              2010-09-25 00:00:00   \n",
       "Final Date                                          2010-11-01 00:00:00   \n",
       "Assets - Total                                                  75183.0   \n",
       "Cash                                                            11261.0   \n",
       "CIK Number                                                       320193   \n",
       "Active/Inactive Status Marker                                         A   \n",
       "City                                                          Cupertino   \n",
       "\n",
       "                                                                      1   \n",
       "Global Company Key                                                 1690  \\\n",
       "Data Date                                           2011-09-30 00:00:00   \n",
       "Data Year - Fiscal                                                 2011   \n",
       "Industry Format                                                    INDL   \n",
       "Level of Consolidation - Company Annual Descriptor                    C   \n",
       "Population Source                                                     D   \n",
       "Data Format                                                         STD   \n",
       "Ticker Symbol                                                      AAPL   \n",
       "Company Name                                                  APPLE INC   \n",
       "ISO Currency Code                                                   USD   \n",
       "Actual Period End date                              2011-09-24 00:00:00   \n",
       "Final Date                                          2011-10-31 00:00:00   \n",
       "Assets - Total                                                 116371.0   \n",
       "Cash                                                             9815.0   \n",
       "CIK Number                                                       320193   \n",
       "Active/Inactive Status Marker                                         A   \n",
       "City                                                          Cupertino   \n",
       "\n",
       "                                                                      2   \n",
       "Global Company Key                                                 1690  \\\n",
       "Data Date                                           2012-09-30 00:00:00   \n",
       "Data Year - Fiscal                                                 2012   \n",
       "Industry Format                                                    INDL   \n",
       "Level of Consolidation - Company Annual Descriptor                    C   \n",
       "Population Source                                                     D   \n",
       "Data Format                                                         STD   \n",
       "Ticker Symbol                                                      AAPL   \n",
       "Company Name                                                  APPLE INC   \n",
       "ISO Currency Code                                                   USD   \n",
       "Actual Period End date                              2012-09-29 00:00:00   \n",
       "Final Date                                          2012-11-02 00:00:00   \n",
       "Assets - Total                                                 176064.0   \n",
       "Cash                                                            10746.0   \n",
       "CIK Number                                                       320193   \n",
       "Active/Inactive Status Marker                                         A   \n",
       "City                                                          Cupertino   \n",
       "\n",
       "                                                                      3  \n",
       "Global Company Key                                                 1690  \n",
       "Data Date                                           2013-09-30 00:00:00  \n",
       "Data Year - Fiscal                                                 2013  \n",
       "Industry Format                                                    INDL  \n",
       "Level of Consolidation - Company Annual Descriptor                    C  \n",
       "Population Source                                                     D  \n",
       "Data Format                                                         STD  \n",
       "Ticker Symbol                                                      AAPL  \n",
       "Company Name                                                  APPLE INC  \n",
       "ISO Currency Code                                                   USD  \n",
       "Actual Period End date                              2013-09-28 00:00:00  \n",
       "Final Date                                          2013-10-31 00:00:00  \n",
       "Assets - Total                                                 207000.0  \n",
       "Cash                                                            14259.0  \n",
       "CIK Number                                                       320193  \n",
       "Active/Inactive Status Marker                                         A  \n",
       "City                                                          Cupertino  "
      ]
     },
     "execution_count": 72,
     "metadata": {},
     "output_type": "execute_result"
    }
   ],
   "source": [
    "company_df.head(4).T"
   ]
  },
  {
   "cell_type": "markdown",
   "metadata": {},
   "source": [
    "### Set up agent"
   ]
  },
  {
   "cell_type": "code",
   "execution_count": 73,
   "metadata": {},
   "outputs": [],
   "source": [
    "chatModel = ChatOpenAI(\n",
    "    model_name = 'gpt-3.5-turbo', # 'gpt-4'\n",
    "    temperature=0, \n",
    "    max_tokens = 2040\n",
    ")"
   ]
  },
  {
   "cell_type": "code",
   "execution_count": 74,
   "metadata": {
    "tags": []
   },
   "outputs": [],
   "source": [
    "agent = create_pandas_dataframe_agent(\n",
    "    chatModel, \n",
    "    company_df, \n",
    "    verbose=True,\n",
    "    max_iterations = 10\n",
    ")"
   ]
  },
  {
   "cell_type": "markdown",
   "metadata": {},
   "source": [
    "### Run a simple example"
   ]
  },
  {
   "cell_type": "code",
   "execution_count": 75,
   "metadata": {},
   "outputs": [],
   "source": [
    "#clear_log_file()"
   ]
  },
  {
   "cell_type": "code",
   "execution_count": 76,
   "metadata": {},
   "outputs": [
    {
     "name": "stdout",
     "output_type": "stream",
     "text": [
      "\n",
      "\n",
      "\u001b[1m> Entering new AgentExecutor chain...\u001b[0m\n",
      "\u001b[32;1m\u001b[1;3mThought: I can use the `shape` attribute of the dataframe to get the number of rows and columns.\n",
      "Action: python_repl_ast\n",
      "Action Input: df.shape[0]\u001b[0m\n",
      "Observation: \u001b[36;1m\u001b[1;3m66\u001b[0m\n",
      "Thought:\u001b[32;1m\u001b[1;3mI now know the final answer\n",
      "Final Answer: There are 66 rows in the dataframe.\u001b[0m\n",
      "\n",
      "\u001b[1m> Finished chain.\u001b[0m\n"
     ]
    },
    {
     "data": {
      "text/plain": [
       "'There are 66 rows in the dataframe.'"
      ]
     },
     "execution_count": 76,
     "metadata": {},
     "output_type": "execute_result"
    }
   ],
   "source": [
    "agent.run(\"How many rows are there?\")"
   ]
  },
  {
   "cell_type": "markdown",
   "metadata": {},
   "source": [
    "**What did the prompts look like?**"
   ]
  },
  {
   "cell_type": "code",
   "execution_count": 77,
   "metadata": {},
   "outputs": [
    {
     "name": "stdout",
     "output_type": "stream",
     "text": [
      "\n",
      "----------------------------------------------------------------------------------------------------\n",
      "Order: 0\n",
      "----------------------------------------------------------------------------------------------------\n",
      "\n",
      "---Chat prompt:--- [{\"role\": \"user\", \"content\": \"\n",
      "You are working with a pandas dataframe in Python. The name of the dataframe is `df`.\n",
      "You should use the tools below to answer the question posed of you:\n",
      "\n",
      "python_repl_ast: A Python shell. Use this to execute python commands. Input should be a valid python command. When using this tool, sometimes output is abbreviated - make sure it does not look abbreviated before using it in your answer.\n",
      "\n",
      "Use the following format:\n",
      "\n",
      "Question: the input question you must answer\n",
      "Thought: you should always think about what to do\n",
      "Action: the action to take, should be one of [python_repl_ast]\n",
      "Action Input: the input to the action\n",
      "Observation: the result of the action\n",
      "... (this Thought/Action/Action Input/Observation can repeat N times)\n",
      "Thought: I now know the final answer\n",
      "Final Answer: the final answer to the original input question\n",
      "\n",
      "\n",
      "This is the result of `print(df.head())`:\n",
      "   Global Company Key  Data Date  Data Year - Fiscal Industry Format   \n",
      "0                1690 2010-09-30                2010            INDL  \n",
      "1                1690 2011-09-30                2011            INDL   \n",
      "2                1690 2012-09-30                2012            INDL   \n",
      "3                1690 2013-09-30                2013            INDL   \n",
      "4                1690 2014-09-30                2014            INDL   \n",
      "\n",
      "  Level of Consolidation - Company Annual Descriptor Population Source   \n",
      "0                                                  C                 D  \n",
      "1                                                  C                 D   \n",
      "2                                                  C                 D   \n",
      "3                                                  C                 D   \n",
      "4                                                  C                 D   \n",
      "\n",
      "  Data Format Ticker Symbol Company Name ISO Currency Code   \n",
      "0         STD          AAPL    APPLE INC               USD  \n",
      "1         STD          AAPL    APPLE INC               USD   \n",
      "2         STD          AAPL    APPLE INC               USD   \n",
      "3         STD          AAPL    APPLE INC               USD   \n",
      "4         STD          AAPL    APPLE INC               USD   \n",
      "\n",
      "  Actual Period End date Final Date  Assets - Total     Cash  CIK Number   \n",
      "0             2010-09-25 2010-11-01         75183.0  11261.0      320193  \n",
      "1             2011-09-24 2011-10-31        116371.0   9815.0      320193   \n",
      "2             2012-09-29 2012-11-02        176064.0  10746.0      320193   \n",
      "3             2013-09-28 2013-10-31        207000.0  14259.0      320193   \n",
      "4             2014-09-27 2014-10-29        231839.0  13844.0      320193   \n",
      "\n",
      "  Active/Inactive Status Marker       City  \n",
      "0                             A  Cupertino  \n",
      "1                             A  Cupertino  \n",
      "2                             A  Cupertino  \n",
      "3                             A  Cupertino  \n",
      "4                             A  Cupertino  \n",
      "\n",
      "Begin!\n",
      "Question: How many rows are there?\n",
      "Thought: I can use the `shape` attribute of the dataframe to get the number of rows and columns.\n",
      "Action: python_repl_ast\n",
      "Action Input: df.shape[0]\n",
      "Observation: 66\n",
      "Thought:\"}]\n",
      "\n",
      "----------------------------------------------------------------------------------------------------\n",
      "Order: 1\n",
      "----------------------------------------------------------------------------------------------------\n",
      "\n",
      "---Chat prompt:--- [{\"role\": \"user\", \"content\": \"\n",
      "You are working with a pandas dataframe in Python. The name of the dataframe is `df`.\n",
      "You should use the tools below to answer the question posed of you:\n",
      "\n",
      "python_repl_ast: A Python shell. Use this to execute python commands. Input should be a valid python command. When using this tool, sometimes output is abbreviated - make sure it does not look abbreviated before using it in your answer.\n",
      "\n",
      "Use the following format:\n",
      "\n",
      "Question: the input question you must answer\n",
      "Thought: you should always think about what to do\n",
      "Action: the action to take, should be one of [python_repl_ast]\n",
      "Action Input: the input to the action\n",
      "Observation: the result of the action\n",
      "... (this Thought/Action/Action Input/Observation can repeat N times)\n",
      "Thought: I now know the final answer\n",
      "Final Answer: the final answer to the original input question\n",
      "\n",
      "\n",
      "This is the result of `print(df.head())`:\n",
      "   Global Company Key  Data Date  Data Year - Fiscal Industry Format   \n",
      "0                1690 2010-09-30                2010            INDL  \n",
      "1                1690 2011-09-30                2011            INDL   \n",
      "2                1690 2012-09-30                2012            INDL   \n",
      "3                1690 2013-09-30                2013            INDL   \n",
      "4                1690 2014-09-30                2014            INDL   \n",
      "\n",
      "  Level of Consolidation - Company Annual Descriptor Population Source   \n",
      "0                                                  C                 D  \n",
      "1                                                  C                 D   \n",
      "2                                                  C                 D   \n",
      "3                                                  C                 D   \n",
      "4                                                  C                 D   \n",
      "\n",
      "  Data Format Ticker Symbol Company Name ISO Currency Code   \n",
      "0         STD          AAPL    APPLE INC               USD  \n",
      "1         STD          AAPL    APPLE INC               USD   \n",
      "2         STD          AAPL    APPLE INC               USD   \n",
      "3         STD          AAPL    APPLE INC               USD   \n",
      "4         STD          AAPL    APPLE INC               USD   \n",
      "\n",
      "  Actual Period End date Final Date  Assets - Total     Cash  CIK Number   \n",
      "0             2010-09-25 2010-11-01         75183.0  11261.0      320193  \n",
      "1             2011-09-24 2011-10-31        116371.0   9815.0      320193   \n",
      "2             2012-09-29 2012-11-02        176064.0  10746.0      320193   \n",
      "3             2013-09-28 2013-10-31        207000.0  14259.0      320193   \n",
      "4             2014-09-27 2014-10-29        231839.0  13844.0      320193   \n",
      "\n",
      "  Active/Inactive Status Marker       City  \n",
      "0                             A  Cupertino  \n",
      "1                             A  Cupertino  \n",
      "2                             A  Cupertino  \n",
      "3                             A  Cupertino  \n",
      "4                             A  Cupertino  \n",
      "\n",
      "Begin!\n",
      "Question: How many rows are there?\n",
      "\"}]\n"
     ]
    }
   ],
   "source": [
    "#print_recent_requests(3)"
   ]
  },
  {
   "cell_type": "markdown",
   "metadata": {},
   "source": [
    "### More advanced example"
   ]
  },
  {
   "cell_type": "code",
   "execution_count": 78,
   "metadata": {},
   "outputs": [],
   "source": [
    "#clear_log_file()"
   ]
  },
  {
   "cell_type": "code",
   "execution_count": 79,
   "metadata": {},
   "outputs": [
    {
     "name": "stdout",
     "output_type": "stream",
     "text": [
      "\n",
      "\n",
      "\u001b[1m> Entering new AgentExecutor chain...\u001b[0m\n",
      "\u001b[32;1m\u001b[1;3mThought: We need to group the data by company name and then sum the cash column for each company. Then we can find the company with the highest cash value.\n",
      "Action: python_repl_ast\n",
      "Action Input:\n",
      "df.groupby('Company Name')['Cash'].sum().sort_values(ascending=False).head(1)\u001b[0m\n",
      "Observation: \u001b[36;1m\u001b[1;3mCompany Name\n",
      "APPLE INC    293177.0\n",
      "Name: Cash, dtype: float64\u001b[0m\n",
      "Thought:\u001b[32;1m\u001b[1;3mThe company with the most cash on hand across all the years is APPLE INC with a total of 293177.0. \n",
      "Final Answer: APPLE INC\u001b[0m\n",
      "\n",
      "\u001b[1m> Finished chain.\u001b[0m\n"
     ]
    },
    {
     "data": {
      "text/plain": [
       "'APPLE INC'"
      ]
     },
     "execution_count": 79,
     "metadata": {},
     "output_type": "execute_result"
    }
   ],
   "source": [
    "agent.run(\"Which company has the most cash on hand accross all the years?\")"
   ]
  },
  {
   "cell_type": "markdown",
   "metadata": {},
   "source": [
    "**What did the prompts look like?**"
   ]
  },
  {
   "cell_type": "code",
   "execution_count": 80,
   "metadata": {},
   "outputs": [
    {
     "name": "stdout",
     "output_type": "stream",
     "text": [
      "\n",
      "----------------------------------------------------------------------------------------------------\n",
      "Order: 0\n",
      "----------------------------------------------------------------------------------------------------\n",
      "\n",
      "---Chat prompt:--- [{\"role\": \"user\", \"content\": \"\n",
      "You are working with a pandas dataframe in Python. The name of the dataframe is `df`.\n",
      "You should use the tools below to answer the question posed of you:\n",
      "\n",
      "python_repl_ast: A Python shell. Use this to execute python commands. Input should be a valid python command. When using this tool, sometimes output is abbreviated - make sure it does not look abbreviated before using it in your answer.\n",
      "\n",
      "Use the following format:\n",
      "\n",
      "Question: the input question you must answer\n",
      "Thought: you should always think about what to do\n",
      "Action: the action to take, should be one of [python_repl_ast]\n",
      "Action Input: the input to the action\n",
      "Observation: the result of the action\n",
      "... (this Thought/Action/Action Input/Observation can repeat N times)\n",
      "Thought: I now know the final answer\n",
      "Final Answer: the final answer to the original input question\n",
      "\n",
      "\n",
      "This is the result of `print(df.head())`:\n",
      "   Global Company Key  Data Date  Data Year - Fiscal Industry Format   \n",
      "0                1690 2010-09-30                2010            INDL  \n",
      "1                1690 2011-09-30                2011            INDL   \n",
      "2                1690 2012-09-30                2012            INDL   \n",
      "3                1690 2013-09-30                2013            INDL   \n",
      "4                1690 2014-09-30                2014            INDL   \n",
      "\n",
      "  Level of Consolidation - Company Annual Descriptor Population Source   \n",
      "0                                                  C                 D  \n",
      "1                                                  C                 D   \n",
      "2                                                  C                 D   \n",
      "3                                                  C                 D   \n",
      "4                                                  C                 D   \n",
      "\n",
      "  Data Format Ticker Symbol Company Name ISO Currency Code   \n",
      "0         STD          AAPL    APPLE INC               USD  \n",
      "1         STD          AAPL    APPLE INC               USD   \n",
      "2         STD          AAPL    APPLE INC               USD   \n",
      "3         STD          AAPL    APPLE INC               USD   \n",
      "4         STD          AAPL    APPLE INC               USD   \n",
      "\n",
      "  Actual Period End date Final Date  Assets - Total     Cash  CIK Number   \n",
      "0             2010-09-25 2010-11-01         75183.0  11261.0      320193  \n",
      "1             2011-09-24 2011-10-31        116371.0   9815.0      320193   \n",
      "2             2012-09-29 2012-11-02        176064.0  10746.0      320193   \n",
      "3             2013-09-28 2013-10-31        207000.0  14259.0      320193   \n",
      "4             2014-09-27 2014-10-29        231839.0  13844.0      320193   \n",
      "\n",
      "  Active/Inactive Status Marker       City  \n",
      "0                             A  Cupertino  \n",
      "1                             A  Cupertino  \n",
      "2                             A  Cupertino  \n",
      "3                             A  Cupertino  \n",
      "4                             A  Cupertino  \n",
      "\n",
      "Begin!\n",
      "Question: Which company has the most cash on hand accross all the years?\n",
      "Thought: We need to group the data by company name and then sum the cash column for each company. Then we can find the company with the highest cash value.\n",
      "Action: python_repl_ast\n",
      "Action Input:\n",
      "df.groupby(\\'Company Name\\')[\\'Cash\\'].sum().sort_values(ascending=False).head(1)\n",
      "Observation: Company Name\n",
      "APPLE INC    293177.0\n",
      "Name: Cash, dtype: float64\n",
      "Thought:\"}]\n",
      "\n",
      "----------------------------------------------------------------------------------------------------\n",
      "Order: 1\n",
      "----------------------------------------------------------------------------------------------------\n",
      "\n",
      "---Chat prompt:--- [{\"role\": \"user\", \"content\": \"\n",
      "You are working with a pandas dataframe in Python. The name of the dataframe is `df`.\n",
      "You should use the tools below to answer the question posed of you:\n",
      "\n",
      "python_repl_ast: A Python shell. Use this to execute python commands. Input should be a valid python command. When using this tool, sometimes output is abbreviated - make sure it does not look abbreviated before using it in your answer.\n",
      "\n",
      "Use the following format:\n",
      "\n",
      "Question: the input question you must answer\n",
      "Thought: you should always think about what to do\n",
      "Action: the action to take, should be one of [python_repl_ast]\n",
      "Action Input: the input to the action\n",
      "Observation: the result of the action\n",
      "... (this Thought/Action/Action Input/Observation can repeat N times)\n",
      "Thought: I now know the final answer\n",
      "Final Answer: the final answer to the original input question\n",
      "\n",
      "\n",
      "This is the result of `print(df.head())`:\n",
      "   Global Company Key  Data Date  Data Year - Fiscal Industry Format   \n",
      "0                1690 2010-09-30                2010            INDL  \n",
      "1                1690 2011-09-30                2011            INDL   \n",
      "2                1690 2012-09-30                2012            INDL   \n",
      "3                1690 2013-09-30                2013            INDL   \n",
      "4                1690 2014-09-30                2014            INDL   \n",
      "\n",
      "  Level of Consolidation - Company Annual Descriptor Population Source   \n",
      "0                                                  C                 D  \n",
      "1                                                  C                 D   \n",
      "2                                                  C                 D   \n",
      "3                                                  C                 D   \n",
      "4                                                  C                 D   \n",
      "\n",
      "  Data Format Ticker Symbol Company Name ISO Currency Code   \n",
      "0         STD          AAPL    APPLE INC               USD  \n",
      "1         STD          AAPL    APPLE INC               USD   \n",
      "2         STD          AAPL    APPLE INC               USD   \n",
      "3         STD          AAPL    APPLE INC               USD   \n",
      "4         STD          AAPL    APPLE INC               USD   \n",
      "\n",
      "  Actual Period End date Final Date  Assets - Total     Cash  CIK Number   \n",
      "0             2010-09-25 2010-11-01         75183.0  11261.0      320193  \n",
      "1             2011-09-24 2011-10-31        116371.0   9815.0      320193   \n",
      "2             2012-09-29 2012-11-02        176064.0  10746.0      320193   \n",
      "3             2013-09-28 2013-10-31        207000.0  14259.0      320193   \n",
      "4             2014-09-27 2014-10-29        231839.0  13844.0      320193   \n",
      "\n",
      "  Active/Inactive Status Marker       City  \n",
      "0                             A  Cupertino  \n",
      "1                             A  Cupertino  \n",
      "2                             A  Cupertino  \n",
      "3                             A  Cupertino  \n",
      "4                             A  Cupertino  \n",
      "\n",
      "Begin!\n",
      "Question: Which company has the most cash on hand accross all the years?\n",
      "\"}]\n",
      "\n",
      "----------------------------------------------------------------------------------------------------\n",
      "Order: 2\n",
      "----------------------------------------------------------------------------------------------------\n",
      "\n",
      "---Chat prompt:--- [{\"role\": \"user\", \"content\": \"\n",
      "You are working with a pandas dataframe in Python. The name of the dataframe is `df`.\n",
      "You should use the tools below to answer the question posed of you:\n",
      "\n",
      "python_repl_ast: A Python shell. Use this to execute python commands. Input should be a valid python command. When using this tool, sometimes output is abbreviated - make sure it does not look abbreviated before using it in your answer.\n",
      "\n",
      "Use the following format:\n",
      "\n",
      "Question: the input question you must answer\n",
      "Thought: you should always think about what to do\n",
      "Action: the action to take, should be one of [python_repl_ast]\n",
      "Action Input: the input to the action\n",
      "Observation: the result of the action\n",
      "... (this Thought/Action/Action Input/Observation can repeat N times)\n",
      "Thought: I now know the final answer\n",
      "Final Answer: the final answer to the original input question\n",
      "\n",
      "\n",
      "This is the result of `print(df.head())`:\n",
      "   Global Company Key  Data Date  Data Year - Fiscal Industry Format   \n",
      "0                1690 2010-09-30                2010            INDL  \n",
      "1                1690 2011-09-30                2011            INDL   \n",
      "2                1690 2012-09-30                2012            INDL   \n",
      "3                1690 2013-09-30                2013            INDL   \n",
      "4                1690 2014-09-30                2014            INDL   \n",
      "\n",
      "  Level of Consolidation - Company Annual Descriptor Population Source   \n",
      "0                                                  C                 D  \n",
      "1                                                  C                 D   \n",
      "2                                                  C                 D   \n",
      "3                                                  C                 D   \n",
      "4                                                  C                 D   \n",
      "\n",
      "  Data Format Ticker Symbol Company Name ISO Currency Code   \n",
      "0         STD          AAPL    APPLE INC               USD  \n",
      "1         STD          AAPL    APPLE INC               USD   \n",
      "2         STD          AAPL    APPLE INC               USD   \n",
      "3         STD          AAPL    APPLE INC               USD   \n",
      "4         STD          AAPL    APPLE INC               USD   \n",
      "\n",
      "  Actual Period End date Final Date  Assets - Total     Cash  CIK Number   \n",
      "0             2010-09-25 2010-11-01         75183.0  11261.0      320193  \n",
      "1             2011-09-24 2011-10-31        116371.0   9815.0      320193   \n",
      "2             2012-09-29 2012-11-02        176064.0  10746.0      320193   \n",
      "3             2013-09-28 2013-10-31        207000.0  14259.0      320193   \n",
      "4             2014-09-27 2014-10-29        231839.0  13844.0      320193   \n",
      "\n",
      "  Active/Inactive Status Marker       City  \n",
      "0                             A  Cupertino  \n",
      "1                             A  Cupertino  \n",
      "2                             A  Cupertino  \n",
      "3                             A  Cupertino  \n",
      "4                             A  Cupertino  \n",
      "\n",
      "Begin!\n",
      "Question: Which company has the most cash on hand accross all the years?\n",
      "\"}]\n"
     ]
    }
   ],
   "source": [
    "#print_recent_requests(10)"
   ]
  },
  {
   "cell_type": "markdown",
   "metadata": {},
   "source": [
    "### Interesting edge case:"
   ]
  },
  {
   "cell_type": "code",
   "execution_count": 81,
   "metadata": {},
   "outputs": [],
   "source": [
    "agent = create_pandas_dataframe_agent(\n",
    "    chatModel, \n",
    "    company_df, \n",
    "    verbose=True,\n",
    "    max_iterations = 2\n",
    ")"
   ]
  },
  {
   "cell_type": "code",
   "execution_count": 82,
   "metadata": {},
   "outputs": [],
   "source": [
    "#clear_log_file()"
   ]
  },
  {
   "cell_type": "code",
   "execution_count": 83,
   "metadata": {},
   "outputs": [
    {
     "name": "stdout",
     "output_type": "stream",
     "text": [
      "\n",
      "\n",
      "\u001b[1m> Entering new AgentExecutor chain...\u001b[0m\n",
      "\u001b[32;1m\u001b[1;3mThought: We need to group the data by company and then plot the cash column over time.\n",
      "Action: python_repl_ast\n",
      "Action Input:\n",
      "```\n",
      "import matplotlib.pyplot as plt\n",
      "grouped = df.groupby('Company Name')\n",
      "for name, group in grouped:\n",
      "    plt.plot(group['Data Date'], group['Cash'], label=name)\n",
      "plt.legend()\n",
      "plt.show()\n",
      "```\u001b[0m"
     ]
    },
    {
     "data": {
      "image/png": "[encoded data removed]",
      "text/plain": [
       "<Figure size 640x480 with 1 Axes>"
      ]
     },
     "metadata": {},
     "output_type": "display_data"
    },
    {
     "name": "stdout",
     "output_type": "stream",
     "text": [
      "\n",
      "Observation: \u001b[36;1m\u001b[1;3mNone\u001b[0m\n",
      "Thought:\u001b[32;1m\u001b[1;3mThe code should have created a graph, but it didn't. Let's try to debug it.\n",
      "Action: python_repl_ast\n",
      "Action Input:\n",
      "```\n",
      "import matplotlib.pyplot as plt\n",
      "grouped = df.groupby('Company Name')\n",
      "for name, group in grouped:\n",
      "    print(name)\n",
      "    print(group['Data Date'])\n",
      "    print(group['Cash'])\n",
      "    plt.plot(group['Data Date'], group['Cash'], label=name)\n",
      "plt.legend()\n",
      "plt.show()\n",
      "```\u001b[0m3M CO\n",
      "26   2010-12-31\n",
      "27   2011-12-31\n",
      "28   2012-12-31\n",
      "29   2013-12-31\n",
      "30   2014-12-31\n",
      "31   2015-12-31\n",
      "32   2016-12-31\n",
      "33   2017-12-31\n",
      "34   2018-12-31\n",
      "35   2019-12-31\n",
      "36   2020-12-31\n",
      "37   2021-12-31\n",
      "38   2022-12-31\n",
      "Name: Data Date, dtype: datetime64[ns]\n",
      "26    3377.0\n",
      "27    2219.0\n",
      "28    2883.0\n",
      "29    2581.0\n",
      "30    1897.0\n",
      "31    1798.0\n",
      "32    2398.0\n",
      "33    3053.0\n",
      "34    2853.0\n",
      "35    2353.0\n",
      "36    4634.0\n",
      "37    4564.0\n",
      "38    3655.0\n",
      "Name: Cash, dtype: float64\n",
      "APPLE INC\n",
      "0    2010-09-30\n",
      "1    2011-09-30\n",
      "2    2012-09-30\n",
      "3    2013-09-30\n",
      "4    2014-09-30\n",
      "5    2015-09-30\n",
      "6    2016-09-30\n",
      "7    2017-09-30\n",
      "8    2018-09-30\n",
      "9    2019-09-30\n",
      "10   2020-09-30\n",
      "11   2021-09-30\n",
      "12   2022-09-30\n",
      "Name: Data Date, dtype: datetime64[ns]\n",
      "0     11261.0\n",
      "1      9815.0\n",
      "2     10746.0\n",
      "3     14259.0\n",
      "4     13844.0\n",
      "5     21120.0\n",
      "6     20484.0\n",
      "7     20289.0\n",
      "8     25913.0\n",
      "9     48844.0\n",
      "10    38016.0\n",
      "11    34940.0\n",
      "12    23646.0\n",
      "Name: Cash, dtype: float64\n",
      "FORD MOTOR CO\n",
      "13   2010-12-31\n",
      "14   2011-12-31\n",
      "15   2012-12-31\n",
      "16   2013-12-31\n",
      "17   2014-12-31\n",
      "18   2015-12-31\n",
      "19   2016-12-31\n",
      "20   2017-12-31\n",
      "21   2018-12-31\n",
      "22   2019-12-31\n",
      "23   2020-12-31\n",
      "24   2021-12-31\n",
      "25   2022-12-31\n",
      "Name: Data Date, dtype: datetime64[ns]\n",
      "13    14805.0\n",
      "14    17148.0\n",
      "15    15659.0\n",
      "16    14468.0\n",
      "17    10757.0\n",
      "18    14272.0\n",
      "19    15905.0\n",
      "20    18492.0\n",
      "21    16718.0\n",
      "22    17504.0\n",
      "23    25243.0\n",
      "24    20540.0\n",
      "25    25134.0\n",
      "Name: Cash, dtype: float64\n",
      "GAMESTOP CORP\n",
      "39   2010-01-31\n",
      "40   2011-01-31\n",
      "41   2012-01-31\n",
      "42   2013-01-31\n",
      "43   2014-01-31\n",
      "44   2015-01-31\n",
      "45   2016-01-31\n",
      "46   2017-01-31\n",
      "47   2018-01-31\n",
      "48   2019-01-31\n",
      "49   2020-01-31\n",
      "50   2021-01-31\n",
      "51   2022-01-31\n",
      "52   2023-01-31\n",
      "Name: Data Date, dtype: datetime64[ns]\n",
      "39     905.418\n",
      "40     710.800\n",
      "41     655.000\n",
      "42     635.800\n",
      "43     536.200\n",
      "44     610.100\n",
      "45     450.400\n",
      "46     669.400\n",
      "47     864.400\n",
      "48    1624.400\n",
      "49     499.400\n",
      "50     508.500\n",
      "51    1271.400\n",
      "52    1139.000\n",
      "Name: Cash, dtype: float64\n",
      "TESLA INC\n",
      "53   2010-12-31\n",
      "54   2011-12-31\n",
      "55   2012-12-31\n",
      "56   2013-12-31\n",
      "57   2014-12-31\n",
      "58   2015-12-31\n",
      "59   2016-12-31\n",
      "60   2017-12-31\n",
      "61   2018-12-31\n",
      "62   2019-12-31\n",
      "63   2020-12-31\n",
      "64   2021-12-31\n",
      "65   2022-12-31\n",
      "Name: Data Date, dtype: datetime64[ns]\n",
      "53       99.558\n",
      "54      255.266\n",
      "55      201.890\n",
      "56      845.889\n",
      "57     1905.713\n",
      "58     1196.908\n",
      "59     3393.216\n",
      "60     3367.914\n",
      "61     3685.618\n",
      "62     6268.000\n",
      "63    19384.000\n",
      "64    17576.000\n",
      "65    16253.000\n",
      "Name: Cash, dtype: float64\n"
     ]
    },
    {
     "data": {
      "image/png": "[encoded data removed]",
      "text/plain": [
       "<Figure size 640x480 with 1 Axes>"
      ]
     },
     "metadata": {},
     "output_type": "display_data"
    },
    {
     "name": "stdout",
     "output_type": "stream",
     "text": [
      "\n",
      "Observation: \u001b[36;1m\u001b[1;3mNone\u001b[0m\n",
      "Thought:\u001b[32;1m\u001b[1;3m\u001b[0m\n",
      "\n",
      "\u001b[1m> Finished chain.\u001b[0m\n"
     ]
    },
    {
     "data": {
      "text/plain": [
       "'Agent stopped due to iteration limit or time limit.'"
      ]
     },
     "execution_count": 83,
     "metadata": {},
     "output_type": "execute_result"
    }
   ],
   "source": [
    "agent.run(\"I want to create a graph that shows the cash trends per company over time.\", )"
   ]
  },
  {
   "cell_type": "code",
   "execution_count": 84,
   "metadata": {},
   "outputs": [
    {
     "name": "stdout",
     "output_type": "stream",
     "text": [
      "\n",
      "----------------------------------------------------------------------------------------------------\n",
      "Order: 0\n",
      "----------------------------------------------------------------------------------------------------\n",
      "\n",
      "---Chat prompt:--- [{\"role\": \"user\", \"content\": \"\n",
      "You are working with a pandas dataframe in Python. The name of the dataframe is `df`.\n",
      "You should use the tools below to answer the question posed of you:\n",
      "\n",
      "python_repl_ast: A Python shell. Use this to execute python commands. Input should be a valid python command. When using this tool, sometimes output is abbreviated - make sure it does not look abbreviated before using it in your answer.\n",
      "\n",
      "Use the following format:\n",
      "\n",
      "Question: the input question you must answer\n",
      "Thought: you should always think about what to do\n",
      "Action: the action to take, should be one of [python_repl_ast]\n",
      "Action Input: the input to the action\n",
      "Observation: the result of the action\n",
      "... (this Thought/Action/Action Input/Observation can repeat N times)\n",
      "Thought: I now know the final answer\n",
      "Final Answer: the final answer to the original input question\n",
      "\n",
      "\n",
      "This is the result of `print(df.head())`:\n",
      "   Global Company Key  Data Date  Data Year - Fiscal Industry Format   \n",
      "0                1690 2010-09-30                2010            INDL  \n",
      "1                1690 2011-09-30                2011            INDL   \n",
      "2                1690 2012-09-30                2012            INDL   \n",
      "3                1690 2013-09-30                2013            INDL   \n",
      "4                1690 2014-09-30                2014            INDL   \n",
      "\n",
      "  Level of Consolidation - Company Annual Descriptor Population Source   \n",
      "0                                                  C                 D  \n",
      "1                                                  C                 D   \n",
      "2                                                  C                 D   \n",
      "3                                                  C                 D   \n",
      "4                                                  C                 D   \n",
      "\n",
      "  Data Format Ticker Symbol Company Name ISO Currency Code   \n",
      "0         STD          AAPL    APPLE INC               USD  \n",
      "1         STD          AAPL    APPLE INC               USD   \n",
      "2         STD          AAPL    APPLE INC               USD   \n",
      "3         STD          AAPL    APPLE INC               USD   \n",
      "4         STD          AAPL    APPLE INC               USD   \n",
      "\n",
      "  Actual Period End date Final Date  Assets - Total     Cash  CIK Number   \n",
      "0             2010-09-25 2010-11-01         75183.0  11261.0      320193  \n",
      "1             2011-09-24 2011-10-31        116371.0   9815.0      320193   \n",
      "2             2012-09-29 2012-11-02        176064.0  10746.0      320193   \n",
      "3             2013-09-28 2013-10-31        207000.0  14259.0      320193   \n",
      "4             2014-09-27 2014-10-29        231839.0  13844.0      320193   \n",
      "\n",
      "  Active/Inactive Status Marker       City  \n",
      "0                             A  Cupertino  \n",
      "1                             A  Cupertino  \n",
      "2                             A  Cupertino  \n",
      "3                             A  Cupertino  \n",
      "4                             A  Cupertino  \n",
      "\n",
      "Begin!\n",
      "Question: I want to create a graph that shows the cash trends per company over time.\n",
      "Thought: We need to group the data by company and then plot the cash column over time.\n",
      "Action: python_repl_ast\n",
      "Action Input:\n",
      "```\n",
      "import matplotlib.pyplot as plt\n",
      "grouped = df.groupby(\\'Company Name\\')\n",
      "for name, group in grouped:\n",
      "    plt.plot(group[\\'Data Date\\'], group[\\'Cash\\'], label=name)\n",
      "plt.legend()\n",
      "plt.show()\n",
      "```\n",
      "Observation: None\n",
      "Thought:\"}]\n",
      "\n",
      "----------------------------------------------------------------------------------------------------\n",
      "Order: 1\n",
      "----------------------------------------------------------------------------------------------------\n",
      "\n",
      "---Chat prompt:--- [{\"role\": \"user\", \"content\": \"\n",
      "You are working with a pandas dataframe in Python. The name of the dataframe is `df`.\n",
      "You should use the tools below to answer the question posed of you:\n",
      "\n",
      "python_repl_ast: A Python shell. Use this to execute python commands. Input should be a valid python command. When using this tool, sometimes output is abbreviated - make sure it does not look abbreviated before using it in your answer.\n",
      "\n",
      "Use the following format:\n",
      "\n",
      "Question: the input question you must answer\n",
      "Thought: you should always think about what to do\n",
      "Action: the action to take, should be one of [python_repl_ast]\n",
      "Action Input: the input to the action\n",
      "Observation: the result of the action\n",
      "... (this Thought/Action/Action Input/Observation can repeat N times)\n",
      "Thought: I now know the final answer\n",
      "Final Answer: the final answer to the original input question\n",
      "\n",
      "\n",
      "This is the result of `print(df.head())`:\n",
      "   Global Company Key  Data Date  Data Year - Fiscal Industry Format   \n",
      "0                1690 2010-09-30                2010            INDL  \n",
      "1                1690 2011-09-30                2011            INDL   \n",
      "2                1690 2012-09-30                2012            INDL   \n",
      "3                1690 2013-09-30                2013            INDL   \n",
      "4                1690 2014-09-30                2014            INDL   \n",
      "\n",
      "  Level of Consolidation - Company Annual Descriptor Population Source   \n",
      "0                                                  C                 D  \n",
      "1                                                  C                 D   \n",
      "2                                                  C                 D   \n",
      "3                                                  C                 D   \n",
      "4                                                  C                 D   \n",
      "\n",
      "  Data Format Ticker Symbol Company Name ISO Currency Code   \n",
      "0         STD          AAPL    APPLE INC               USD  \n",
      "1         STD          AAPL    APPLE INC               USD   \n",
      "2         STD          AAPL    APPLE INC               USD   \n",
      "3         STD          AAPL    APPLE INC               USD   \n",
      "4         STD          AAPL    APPLE INC               USD   \n",
      "\n",
      "  Actual Period End date Final Date  Assets - Total     Cash  CIK Number   \n",
      "0             2010-09-25 2010-11-01         75183.0  11261.0      320193  \n",
      "1             2011-09-24 2011-10-31        116371.0   9815.0      320193   \n",
      "2             2012-09-29 2012-11-02        176064.0  10746.0      320193   \n",
      "3             2013-09-28 2013-10-31        207000.0  14259.0      320193   \n",
      "4             2014-09-27 2014-10-29        231839.0  13844.0      320193   \n",
      "\n",
      "  Active/Inactive Status Marker       City  \n",
      "0                             A  Cupertino  \n",
      "1                             A  Cupertino  \n",
      "2                             A  Cupertino  \n",
      "3                             A  Cupertino  \n",
      "4                             A  Cupertino  \n",
      "\n",
      "Begin!\n",
      "Question: I want to create a graph that shows the cash trends per company over time.\n",
      "\"}]\n"
     ]
    }
   ],
   "source": [
    "#print_recent_requests(n = 3)"
   ]
  }
 ],
 "metadata": {
  "interpreter": {
   "hash": "55db16121d04b5f72d72c9fe0d622ee7e6e85c5e4fa5784b66cf46f0f20b3e70"
  },
  "kernelspec": {
   "display_name": "Python 3 (ipykernel)",
   "language": "python",
   "name": "python3"
  },
  "language_info": {
   "codemirror_mode": {
    "name": "ipython",
    "version": 3
   },
   "file_extension": ".py",
   "mimetype": "text/x-python",
   "name": "python",
   "nbconvert_exporter": "python",
   "pygments_lexer": "ipython3",
   "version": "3.10.10"
  },
  "toc": {
   "colors": {
    "hover_highlight": "#DAA520",
    "running_highlight": "#FF0000",
    "selected_highlight": "#FFD700"
   },
   "moveMenuLeft": true,
   "nav_menu": {
    "height": "138px",
    "width": "252px"
   },
   "navigate_menu": true,
   "number_sections": false,
   "sideBar": true,
   "threshold": 4,
   "toc_cell": false,
   "toc_section_display": "block",
   "toc_window_display": false
  }
 },
 "nbformat": 4,
 "nbformat_minor": 4
}
